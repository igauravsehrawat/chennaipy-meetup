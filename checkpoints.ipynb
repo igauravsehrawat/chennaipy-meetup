{
 "metadata": {
  "name": ""
 },
 "nbformat": 3,
 "nbformat_minor": 0,
 "worksheets": [
  {
   "cells": [
    {
     "cell_type": "markdown",
     "metadata": {},
     "source": [
      "#checkpoints\n"
     ]
    },
    {
     "cell_type": "markdown",
     "metadata": {},
     "source": [
      "This is my presentation . Ipython in ipython\n",
      "Features of ipython\n",
      "* supports markdown\n",
      "* supports python interpreter\n",
      "* supports console\n",
      "* save your result for offline view\n",
      "* distribute your results over the lan\n",
      "* distribute your results over to web(github)"
     ]
    },
    {
     "cell_type": "markdown",
     "metadata": {},
     "source": [
      "##I call it code and present"
     ]
    },
    {
     "cell_type": "markdown",
     "metadata": {},
     "source": [
      "###For markdown cell inplace running won't work since it needs to display the output"
     ]
    },
    {
     "cell_type": "markdown",
     "metadata": {},
     "source": [
      "###Two decks \n",
      "\n",
      "> presentation  \n",
      "> development"
     ]
    },
    {
     "cell_type": "code",
     "collapsed": false,
     "input": [],
     "language": "python",
     "metadata": {},
     "outputs": []
    }
   ],
   "metadata": {}
  }
 ]
}
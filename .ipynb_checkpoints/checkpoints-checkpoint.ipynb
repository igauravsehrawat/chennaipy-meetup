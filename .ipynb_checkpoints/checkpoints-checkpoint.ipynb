{
 "metadata": {
  "name": ""
 },
 "nbformat": 3,
 "nbformat_minor": 0,
 "worksheets": [
  {
   "cells": [
    {
     "cell_type": "code",
     "collapsed": false,
     "input": [
      "checkpoints\n",
      "upgrade to version 2.* currently i have version 1.*"
     ],
     "language": "python",
     "metadata": {},
     "outputs": [
      {
       "ename": "SyntaxError",
       "evalue": "invalid syntax (<ipython-input-1-edb7a732619a>, line 2)",
       "output_type": "pyerr",
       "traceback": [
        "\u001b[0;36m  File \u001b[0;32m\"<ipython-input-1-edb7a732619a>\"\u001b[0;36m, line \u001b[0;32m2\u001b[0m\n\u001b[0;31m    upgrade to version 2.* currently i have version 1.*\u001b[0m\n\u001b[0m             ^\u001b[0m\n\u001b[0;31mSyntaxError\u001b[0m\u001b[0;31m:\u001b[0m invalid syntax\n"
       ]
      }
     ],
     "prompt_number": 1
    },
    {
     "cell_type": "markdown",
     "metadata": {},
     "source": [
      "This is my presentation . Ipython in ipython\n",
      "Features of ipython\n",
      "* supports markdown\n",
      "* supports python interpreter\n",
      "* supports console\n",
      "* save your result for offline view\n",
      "* distribute your results over the lan\n",
      "* distribute your results over to web(github)"
     ]
    },
    {
     "cell_type": "markdown",
     "metadata": {},
     "source": [
      "##I call it code and present"
     ]
    },
    {
     "cell_type": "code",
     "collapsed": false,
     "input": [
      "##For markdown cell inplace running won't work since it needs to display the output"
     ],
     "language": "python",
     "metadata": {},
     "outputs": []
    }
   ],
   "metadata": {}
  }
 ]
}
{
 "metadata": {
  "name": ""
 },
 "nbformat": 3,
 "nbformat_minor": 0,
 "worksheets": [
  {
   "cells": [
    {
     "cell_type": "markdown",
     "metadata": {},
     "source": [
      "##HOW TO ENHANCE PYTHON PRODUCTIVITY"
     ]
    },
    {
     "cell_type": "code",
     "collapsed": false,
     "input": [],
     "language": "python",
     "metadata": {},
     "outputs": []
    },
    {
     "cell_type": "code",
     "collapsed": false,
     "input": [],
     "language": "python",
     "metadata": {},
     "outputs": []
    },
    {
     "cell_type": "markdown",
     "metadata": {},
     "source": [
      "TIPS AND TRICKS OF IPYTHON\n",
      "------------------------------------"
     ]
    },
    {
     "cell_type": "markdown",
     "metadata": {},
     "source": [
      "* ###Installing ipython\n",
      "* ###ipython shortcuts\n",
      "* ###ipython plugins\n",
      "* ###ipython slides in markdown"
     ]
    },
    {
     "cell_type": "code",
     "collapsed": false,
     "input": [
      "from IPython.display import Image"
     ],
     "language": "python",
     "metadata": {},
     "outputs": [],
     "prompt_number": 2
    },
    {
     "cell_type": "code",
     "collapsed": false,
     "input": [
      "!sudo pip install Ipython \n",
      "#usage of magic in ipython notebook\n",
      "#consider a scenario #missing dependencies\n",
      "!ls "
     ],
     "language": "python",
     "metadata": {},
     "outputs": [
      {
       "output_type": "stream",
       "stream": "stdout",
       "text": [
        "Requirement already satisfied (use --upgrade to upgrade): Ipython in /usr/lib/python2.7/dist-packages\r\n",
        "Cleaning up...\r\n"
       ]
      },
      {
       "output_type": "stream",
       "stream": "stdout",
       "text": [
        "archives.html\t checkpoints.ipynb\t    ipython-demo-Copy0.ipynb\t    theme\r\n",
        "author\t\t chennaipy-dec-meetup.html  ipython-for development.ipynb   video_demo.mp4\r\n",
        "authors.html\t feeds\t\t\t    ipython-for-presentation.ipynb\r\n",
        "categories.html  hsbcForeign.py\t\t    tag\r\n",
        "category\t index.html\t\t    tags.html\r\n"
       ]
      }
     ],
     "prompt_number": 1
    },
    {
     "cell_type": "code",
     "collapsed": false,
     "input": [
      "!pip show ipython"
     ],
     "language": "python",
     "metadata": {},
     "outputs": [
      {
       "output_type": "stream",
       "stream": "stdout",
       "text": [
        "---\r\n",
        "Name: ipython\r\n",
        "Version: 1.2.1\r\n",
        "Location: /usr/lib/python2.7/dist-packages\r\n",
        "Requires: \r\n"
       ]
      }
     ],
     "prompt_number": 3
    },
    {
     "cell_type": "code",
     "collapsed": false,
     "input": [
      "!ifconfig"
     ],
     "language": "python",
     "metadata": {},
     "outputs": [
      {
       "output_type": "stream",
       "stream": "stdout",
       "text": [
        "eth0      Link encap:Ethernet  HWaddr 14:fe:b5:af:14:3f  \r\n",
        "          UP BROADCAST MULTICAST  MTU:1500  Metric:1\r\n",
        "          RX packets:0 errors:0 dropped:0 overruns:0 frame:0\r\n",
        "          TX packets:0 errors:0 dropped:0 overruns:0 carrier:0\r\n",
        "          collisions:0 txqueuelen:1000 \r\n",
        "          RX bytes:0 (0.0 B)  TX bytes:0 (0.0 B)\r\n",
        "\r\n",
        "lo        Link encap:Local Loopback  \r\n",
        "          inet addr:127.0.0.1  Mask:255.0.0.0\r\n",
        "          inet6 addr: ::1/128 Scope:Host\r\n",
        "          UP LOOPBACK RUNNING  MTU:65536  Metric:1\r\n",
        "          RX packets:2437 errors:0 dropped:0 overruns:0 frame:0\r\n",
        "          TX packets:2437 errors:0 dropped:0 overruns:0 carrier:0\r\n",
        "          collisions:0 txqueuelen:0 \r\n",
        "          RX bytes:9178659 (9.1 MB)  TX bytes:9178659 (9.1 MB)\r\n",
        "\r\n",
        "mon.wlan0 Link encap:UNSPEC  HWaddr BC-77-37-73-CE-DB-3A-30-00-00-00-00-00-00-00-00  \r\n",
        "          UP BROADCAST RUNNING MULTICAST  MTU:1500  Metric:1\r\n",
        "          RX packets:11 errors:0 dropped:0 overruns:0 frame:0\r\n",
        "          TX packets:0 errors:0 dropped:0 overruns:0 carrier:0\r\n",
        "          collisions:0 txqueuelen:1000 \r\n",
        "          RX bytes:1586 (1.5 KB)  TX bytes:0 (0.0 B)\r\n",
        "\r\n",
        "ppp0      Link encap:Point-to-Point Protocol  \r\n",
        "          inet addr:14.99.138.93  P-t-P:172.23.130.4  Mask:255.255.255.255\r\n",
        "          UP POINTOPOINT RUNNING NOARP MULTICAST  MTU:1500  Metric:1\r\n",
        "          RX packets:3646 errors:0 dropped:0 overruns:0 frame:0\r\n",
        "          TX packets:4008 errors:0 dropped:0 overruns:0 carrier:0\r\n",
        "          collisions:0 txqueuelen:3 \r\n",
        "          RX bytes:2136078 (2.1 MB)  TX bytes:571529 (571.5 KB)\r\n",
        "\r\n",
        "wlan0     Link encap:Ethernet  HWaddr bc:77:37:73:ce:db  \r\n",
        "          inet addr:192.168.150.1  Bcast:192.168.150.255  Mask:255.255.255.0\r\n",
        "          inet6 addr: fe80::be77:37ff:fe73:cedb/64 Scope:Link\r\n",
        "          UP BROADCAST RUNNING MULTICAST  MTU:1500  Metric:1\r\n",
        "          RX packets:0 errors:0 dropped:0 overruns:0 frame:0\r\n",
        "          TX packets:10 errors:0 dropped:0 overruns:0 carrier:0\r\n",
        "          collisions:0 txqueuelen:1000 \r\n",
        "          RX bytes:0 (0.0 B)  TX bytes:1961 (1.9 KB)\r\n",
        "\r\n"
       ]
      }
     ],
     "prompt_number": 1
    },
    {
     "cell_type": "markdown",
     "metadata": {},
     "source": [
      "##Distribute the notebook over the lan \n",
      "####send over the eth0 ipaddress or wlan0 ipadress with the port"
     ]
    },
    {
     "cell_type": "markdown",
     "metadata": {},
     "source": [
      "##best for collaboration and managing workspaces"
     ]
    },
    {
     "cell_type": "code",
     "collapsed": false,
     "input": [],
     "language": "python",
     "metadata": {},
     "outputs": []
    },
    {
     "cell_type": "code",
     "collapsed": false,
     "input": [
      "##shortcuts\n",
      "#space means it is not continous\n",
      "Ctrl+m a #insert below\n",
      "Ctrl+m b #for new cell under the current selected cell\n",
      "Ctrl+m x #cut\n",
      "Ctrl+m c #copy\n",
      "Ctrl+m v #paste\n",
      "Ctrl + Enter #runs inplace\n",
      "Shit + Enter #runs cell and create new cell below it\n",
      "---------------output formatting\n",
      "Ctrl+m l #toggle line numbers\n",
      "Ctrl+m o #toggle output\n",
      "-----------------different modes\n",
      "Ctrl+m m #convert to markdown\n",
      "Ctrl+m t #raw text\n",
      "Ctrl+m y #code cell\n",
      "------------------ Movement\n",
      "Ctrl+m k #cell up\n",
      "Ctrl+m j #cell down\n",
      "\n",
      "----------------------\n",
      "Ctrl+m s #for save\n",
      "Ctrl+m h #for help"
     ],
     "language": "python",
     "metadata": {},
     "outputs": []
    },
    {
     "cell_type": "code",
     "collapsed": false,
     "input": [],
     "language": "python",
     "metadata": {},
     "outputs": []
    },
    {
     "cell_type": "markdown",
     "metadata": {},
     "source": [
      "#For learners\n"
     ]
    },
    {
     "cell_type": "code",
     "collapsed": false,
     "input": [
      "int?\n",
      "import pandas\n",
      "#autocompletion\n",
      "pandas.Categorical?\n"
     ],
     "language": "python",
     "metadata": {},
     "outputs": [],
     "prompt_number": 9
    },
    {
     "cell_type": "markdown",
     "metadata": {},
     "source": [
      "#Magic Functions"
     ]
    },
    {
     "cell_type": "code",
     "collapsed": false,
     "input": [
      "%timeit %run hsbcForeign.py \n"
     ],
     "language": "python",
     "metadata": {},
     "outputs": [
      {
       "output_type": "stream",
       "stream": "stdout",
       "text": [
        "{'MaxAmt': 49999, 'MinAmt': 25000, 'Product': 'HSBC AUD Foreign Currency Time Deposit', 'Period': '3 Wk', 'Currency': 'AUD', 'InterestRate': 0.0}\n",
        "{'MaxAmt': 49999, 'MinAmt': 25000, 'Product': 'HSBC AUD Foreign Currency Time Deposit', 'Period': '1 Mth', 'Currency': 'AUD', 'InterestRate': 0.0}\n",
        "{'MaxAmt': 49999, 'MinAmt': 25000, 'Product': 'HSBC AUD Foreign Currency Time Deposit', 'Period': '2 Mth', 'Currency': 'AUD', 'InterestRate': 0.38}\n",
        "{'MaxAmt': 49999, 'MinAmt': 25000, 'Product': 'HSBC AUD Foreign Currency Time Deposit', 'Period': '3 Mth', 'Currency': 'AUD', 'InterestRate': 0.44}\n",
        "{'MaxAmt': 49999, 'MinAmt': 25000, 'Product': 'HSBC AUD Foreign Currency Time Deposit', 'Period': '6 Mth', 'Currency': 'AUD', 'InterestRate': 0.48}\n",
        "{'MaxAmt': 49999, 'MinAmt': 25000, 'Product': 'HSBC AUD Foreign Currency Time Deposit', 'Period': '9 Mth', 'Currency': 'AUD', 'InterestRate': 0.69}\n",
        "{'MaxAmt': 49999, 'MinAmt': 25000, 'Product': 'HSBC AUD Foreign Currency Time Deposit', 'Period': '12 Mth', 'Currency': 'AUD', 'InterestRate': 0.0}\n",
        "{'MaxAmt': 99999, 'MinAmt': 50000, 'Product': 'HSBC AUD Foreign Currency Time Deposit', 'Period': '3 Wk', 'Currency': 'AUD', 'InterestRate': 0.0}\n",
        "{'MaxAmt': 99999, 'MinAmt': 50000, 'Product': 'HSBC AUD Foreign Currency Time Deposit', 'Period': '1 Mth', 'Currency': 'AUD', 'InterestRate': 0.0}\n",
        "{'MaxAmt': 99999, 'MinAmt': 50000, 'Product': 'HSBC AUD Foreign Currency Time Deposit', 'Period': '2 Mth', 'Currency': 'AUD', 'InterestRate': 0.68}\n",
        "{'MaxAmt': 99999, 'MinAmt': 50000, 'Product': 'HSBC AUD Foreign Currency Time Deposit', 'Period': '3 Mth', 'Currency': 'AUD', 'InterestRate': 0.74}\n",
        "{'MaxAmt': 99999, 'MinAmt': 50000, 'Product': 'HSBC AUD Foreign Currency Time Deposit', 'Period': '6 Mth', 'Currency': 'AUD', 'InterestRate': 0.78}\n",
        "{'MaxAmt': 99999, 'MinAmt': 50000, 'Product': 'HSBC AUD Foreign Currency Time Deposit', 'Period': '9 Mth', 'Currency': 'AUD', 'InterestRate': 0.99}\n",
        "{'MaxAmt': 99999, 'MinAmt': 50000, 'Product': 'HSBC AUD Foreign Currency Time Deposit', 'Period': '12 Mth', 'Currency': 'AUD', 'InterestRate': 0.0}\n",
        "{'MaxAmt': 249999, 'MinAmt': 100000, 'Product': 'HSBC AUD Foreign Currency Time Deposit', 'Period': '3 Wk', 'Currency': 'AUD', 'InterestRate': 0.0}\n",
        "{'MaxAmt': 249999, 'MinAmt': 100000, 'Product': 'HSBC AUD Foreign Currency Time Deposit', 'Period': '1 Mth', 'Currency': 'AUD', 'InterestRate': 0.0}\n",
        "{'MaxAmt': 249999, 'MinAmt': 100000, 'Product': 'HSBC AUD Foreign Currency Time Deposit', 'Period': '2 Mth', 'Currency': 'AUD', 'InterestRate': 0.98}\n",
        "{'MaxAmt': 249999, 'MinAmt': 100000, 'Product': 'HSBC AUD Foreign Currency Time Deposit', 'Period': '3 Mth', 'Currency': 'AUD', 'InterestRate': 1.04}\n",
        "{'MaxAmt': 249999, 'MinAmt': 100000, 'Product': 'HSBC AUD Foreign Currency Time Deposit', 'Period': '6 Mth', 'Currency': 'AUD', 'InterestRate': 1.08}\n",
        "{'MaxAmt': 249999, 'MinAmt': 100000, 'Product': 'HSBC AUD Foreign Currency Time Deposit', 'Period': '9 Mth', 'Currency': 'AUD', 'InterestRate': 1.19}\n",
        "{'MaxAmt': 249999, 'MinAmt': 100000, 'Product': 'HSBC AUD Foreign Currency Time Deposit', 'Period': '12 Mth', 'Currency': 'AUD', 'InterestRate': 0.0}\n",
        "{'MaxAmt': 499999, 'MinAmt': 250000, 'Product': 'HSBC AUD Foreign Currency Time Deposit', 'Period': '3 Wk', 'Currency': 'AUD', 'InterestRate': 0.0}\n",
        "{'MaxAmt': 499999, 'MinAmt': 250000, 'Product': 'HSBC AUD Foreign Currency Time Deposit', 'Period': '1 Mth', 'Currency': 'AUD', 'InterestRate': 0.0}\n",
        "{'MaxAmt': 499999, 'MinAmt': 250000, 'Product': 'HSBC AUD Foreign Currency Time Deposit', 'Period': '2 Mth', 'Currency': 'AUD', 'InterestRate': 1.23}\n",
        "{'MaxAmt': 499999, 'MinAmt': 250000, 'Product': 'HSBC AUD Foreign Currency Time Deposit', 'Period': '3 Mth', 'Currency': 'AUD', 'InterestRate': 1.29}\n",
        "{'MaxAmt': 499999, 'MinAmt': 250000, 'Product': 'HSBC AUD Foreign Currency Time Deposit', 'Period': '6 Mth', 'Currency': 'AUD', 'InterestRate': 1.33}\n",
        "{'MaxAmt': 499999, 'MinAmt': 250000, 'Product': 'HSBC AUD Foreign Currency Time Deposit', 'Period': '9 Mth', 'Currency': 'AUD', 'InterestRate': 1.39}\n",
        "{'MaxAmt': 499999, 'MinAmt': 250000, 'Product': 'HSBC AUD Foreign Currency Time Deposit', 'Period': '12 Mth', 'Currency': 'AUD', 'InterestRate': 0.0}\n",
        "{'MaxAmt': 999999, 'MinAmt': 500000, 'Product': 'HSBC AUD Foreign Currency Time Deposit', 'Period': '3 Wk', 'Currency': 'AUD', 'InterestRate': 0.0}\n",
        "{'MaxAmt': 999999, 'MinAmt': 500000, 'Product': 'HSBC AUD Foreign Currency Time Deposit', 'Period': '1 Mth', 'Currency': 'AUD', 'InterestRate': 0.0}\n",
        "{'MaxAmt': 999999, 'MinAmt': 500000, 'Product': 'HSBC AUD Foreign Currency Time Deposit', 'Period': '2 Mth', 'Currency': 'AUD', 'InterestRate': 1.33}\n",
        "{'MaxAmt': 999999, 'MinAmt': 500000, 'Product': 'HSBC AUD Foreign Currency Time Deposit', 'Period': '3 Mth', 'Currency': 'AUD', 'InterestRate': 1.39}\n",
        "{'MaxAmt': 999999, 'MinAmt': 500000, 'Product': 'HSBC AUD Foreign Currency Time Deposit', 'Period': '6 Mth', 'Currency': 'AUD', 'InterestRate': 1.43}\n",
        "{'MaxAmt': 999999, 'MinAmt': 500000, 'Product': 'HSBC AUD Foreign Currency Time Deposit', 'Period': '9 Mth', 'Currency': 'AUD', 'InterestRate': 1.49}\n",
        "{'MaxAmt': 999999, 'MinAmt': 500000, 'Product': 'HSBC AUD Foreign Currency Time Deposit', 'Period': '12 Mth', 'Currency': 'AUD', 'InterestRate': 0.0}\n",
        "{'MaxAmt': 999999999, 'MinAmt': 1000000, 'Product': 'HSBC AUD Foreign Currency Time Deposit', 'Period': '3 Wk', 'Currency': 'AUD', 'InterestRate': 0.0}\n",
        "{'MaxAmt': 999999999, 'MinAmt': 1000000, 'Product': 'HSBC AUD Foreign Currency Time Deposit', 'Period': '1 Mth', 'Currency': 'AUD', 'InterestRate': 0.0}\n",
        "{'MaxAmt': 999999999, 'MinAmt': 1000000, 'Product': 'HSBC AUD Foreign Currency Time Deposit', 'Period': '2 Mth', 'Currency': 'AUD', 'InterestRate': 1.43}\n",
        "{'MaxAmt': 999999999, 'MinAmt': 1000000, 'Product': 'HSBC AUD Foreign Currency Time Deposit', 'Period': '3 Mth', 'Currency': 'AUD', 'InterestRate': 1.49}\n",
        "{'MaxAmt': 999999999, 'MinAmt': 1000000, 'Product': 'HSBC AUD Foreign Currency Time Deposit', 'Period': '6 Mth', 'Currency': 'AUD', 'InterestRate': 1.53}\n",
        "{'MaxAmt': 999999999, 'MinAmt': 1000000, 'Product': 'HSBC AUD Foreign Currency Time Deposit', 'Period': '9 Mth', 'Currency': 'AUD', 'InterestRate': 1.54}\n",
        "{'MaxAmt': 999999999, 'MinAmt': 1000000, 'Product': 'HSBC AUD Foreign Currency Time Deposit', 'Period': '12 Mth', 'Currency': 'AUD', 'InterestRate': 0.0}\n",
        "{'MaxAmt': 49999, 'MinAmt': 25000, 'Product': 'HSBC AUD Foreign Currency Time Deposit', 'Period': '3 Wk', 'Currency': 'AUD', 'InterestRate': 0.0}"
       ]
      },
      {
       "output_type": "stream",
       "stream": "stdout",
       "text": [
        "\n",
        "{'MaxAmt': 49999, 'MinAmt': 25000, 'Product': 'HSBC AUD Foreign Currency Time Deposit', 'Period': '1 Mth', 'Currency': 'AUD', 'InterestRate': 0.0}\n",
        "{'MaxAmt': 49999, 'MinAmt': 25000, 'Product': 'HSBC AUD Foreign Currency Time Deposit', 'Period': '2 Mth', 'Currency': 'AUD', 'InterestRate': 0.38}\n",
        "{'MaxAmt': 49999, 'MinAmt': 25000, 'Product': 'HSBC AUD Foreign Currency Time Deposit', 'Period': '3 Mth', 'Currency': 'AUD', 'InterestRate': 0.44}\n",
        "{'MaxAmt': 49999, 'MinAmt': 25000, 'Product': 'HSBC AUD Foreign Currency Time Deposit', 'Period': '6 Mth', 'Currency': 'AUD', 'InterestRate': 0.48}\n",
        "{'MaxAmt': 49999, 'MinAmt': 25000, 'Product': 'HSBC AUD Foreign Currency Time Deposit', 'Period': '9 Mth', 'Currency': 'AUD', 'InterestRate': 0.69}\n",
        "{'MaxAmt': 49999, 'MinAmt': 25000, 'Product': 'HSBC AUD Foreign Currency Time Deposit', 'Period': '12 Mth', 'Currency': 'AUD', 'InterestRate': 0.0}\n",
        "{'MaxAmt': 99999, 'MinAmt': 50000, 'Product': 'HSBC AUD Foreign Currency Time Deposit', 'Period': '3 Wk', 'Currency': 'AUD', 'InterestRate': 0.0}\n",
        "{'MaxAmt': 99999, 'MinAmt': 50000, 'Product': 'HSBC AUD Foreign Currency Time Deposit', 'Period': '1 Mth', 'Currency': 'AUD', 'InterestRate': 0.0}\n",
        "{'MaxAmt': 99999, 'MinAmt': 50000, 'Product': 'HSBC AUD Foreign Currency Time Deposit', 'Period': '2 Mth', 'Currency': 'AUD', 'InterestRate': 0.68}\n",
        "{'MaxAmt': 99999, 'MinAmt': 50000, 'Product': 'HSBC AUD Foreign Currency Time Deposit', 'Period': '3 Mth', 'Currency': 'AUD', 'InterestRate': 0.74}\n",
        "{'MaxAmt': 99999, 'MinAmt': 50000, 'Product': 'HSBC AUD Foreign Currency Time Deposit', 'Period': '6 Mth', 'Currency': 'AUD', 'InterestRate': 0.78}\n",
        "{'MaxAmt': 99999, 'MinAmt': 50000, 'Product': 'HSBC AUD Foreign Currency Time Deposit', 'Period': '9 Mth', 'Currency': 'AUD', 'InterestRate': 0.99}\n",
        "{'MaxAmt': 99999, 'MinAmt': 50000, 'Product': 'HSBC AUD Foreign Currency Time Deposit', 'Period': '12 Mth', 'Currency': 'AUD', 'InterestRate': 0.0}\n",
        "{'MaxAmt': 249999, 'MinAmt': 100000, 'Product': 'HSBC AUD Foreign Currency Time Deposit', 'Period': '3 Wk', 'Currency': 'AUD', 'InterestRate': 0.0}\n",
        "{'MaxAmt': 249999, 'MinAmt': 100000, 'Product': 'HSBC AUD Foreign Currency Time Deposit', 'Period': '1 Mth', 'Currency': 'AUD', 'InterestRate': 0.0}\n",
        "{'MaxAmt': 249999, 'MinAmt': 100000, 'Product': 'HSBC AUD Foreign Currency Time Deposit', 'Period': '2 Mth', 'Currency': 'AUD', 'InterestRate': 0.98}\n",
        "{'MaxAmt': 249999, 'MinAmt': 100000, 'Product': 'HSBC AUD Foreign Currency Time Deposit', 'Period': '3 Mth', 'Currency': 'AUD', 'InterestRate': 1.04}\n",
        "{'MaxAmt': 249999, 'MinAmt': 100000, 'Product': 'HSBC AUD Foreign Currency Time Deposit', 'Period': '6 Mth', 'Currency': 'AUD', 'InterestRate': 1.08}\n",
        "{'MaxAmt': 249999, 'MinAmt': 100000, 'Product': 'HSBC AUD Foreign Currency Time Deposit', 'Period': '9 Mth', 'Currency': 'AUD', 'InterestRate': 1.19}\n",
        "{'MaxAmt': 249999, 'MinAmt': 100000, 'Product': 'HSBC AUD Foreign Currency Time Deposit', 'Period': '12 Mth', 'Currency': 'AUD', 'InterestRate': 0.0}\n",
        "{'MaxAmt': 499999, 'MinAmt': 250000, 'Product': 'HSBC AUD Foreign Currency Time Deposit', 'Period': '3 Wk', 'Currency': 'AUD', 'InterestRate': 0.0}\n",
        "{'MaxAmt': 499999, 'MinAmt': 250000, 'Product': 'HSBC AUD Foreign Currency Time Deposit', 'Period': '1 Mth', 'Currency': 'AUD', 'InterestRate': 0.0}\n",
        "{'MaxAmt': 499999, 'MinAmt': 250000, 'Product': 'HSBC AUD Foreign Currency Time Deposit', 'Period': '2 Mth', 'Currency': 'AUD', 'InterestRate': 1.23}\n",
        "{'MaxAmt': 499999, 'MinAmt': 250000, 'Product': 'HSBC AUD Foreign Currency Time Deposit', 'Period': '3 Mth', 'Currency': 'AUD', 'InterestRate': 1.29}\n",
        "{'MaxAmt': 499999, 'MinAmt': 250000, 'Product': 'HSBC AUD Foreign Currency Time Deposit', 'Period': '6 Mth', 'Currency': 'AUD', 'InterestRate': 1.33}\n",
        "{'MaxAmt': 499999, 'MinAmt': 250000, 'Product': 'HSBC AUD Foreign Currency Time Deposit', 'Period': '9 Mth', 'Currency': 'AUD', 'InterestRate': 1.39}\n",
        "{'MaxAmt': 499999, 'MinAmt': 250000, 'Product': 'HSBC AUD Foreign Currency Time Deposit', 'Period': '12 Mth', 'Currency': 'AUD', 'InterestRate': 0.0}\n",
        "{'MaxAmt': 999999, 'MinAmt': 500000, 'Product': 'HSBC AUD Foreign Currency Time Deposit', 'Period': '3 Wk', 'Currency': 'AUD', 'InterestRate': 0.0}\n",
        "{'MaxAmt': 999999, 'MinAmt': 500000, 'Product': 'HSBC AUD Foreign Currency Time Deposit', 'Period': '1 Mth', 'Currency': 'AUD', 'InterestRate': 0.0}\n",
        "{'MaxAmt': 999999, 'MinAmt': 500000, 'Product': 'HSBC AUD Foreign Currency Time Deposit', 'Period': '2 Mth', 'Currency': 'AUD', 'InterestRate': 1.33}\n",
        "{'MaxAmt': 999999, 'MinAmt': 500000, 'Product': 'HSBC AUD Foreign Currency Time Deposit', 'Period': '3 Mth', 'Currency': 'AUD', 'InterestRate': 1.39}\n",
        "{'MaxAmt': 999999, 'MinAmt': 500000, 'Product': 'HSBC AUD Foreign Currency Time Deposit', 'Period': '6 Mth', 'Currency': 'AUD', 'InterestRate': 1.43}\n",
        "{'MaxAmt': 999999, 'MinAmt': 500000, 'Product': 'HSBC AUD Foreign Currency Time Deposit', 'Period': '9 Mth', 'Currency': 'AUD', 'InterestRate': 1.49}\n",
        "{'MaxAmt': 999999, 'MinAmt': 500000, 'Product': 'HSBC AUD Foreign Currency Time Deposit', 'Period': '12 Mth', 'Currency': 'AUD', 'InterestRate': 0.0}\n",
        "{'MaxAmt': 999999999, 'MinAmt': 1000000, 'Product': 'HSBC AUD Foreign Currency Time Deposit', 'Period': '3 Wk', 'Currency': 'AUD', 'InterestRate': 0.0}\n",
        "{'MaxAmt': 999999999, 'MinAmt': 1000000, 'Product': 'HSBC AUD Foreign Currency Time Deposit', 'Period': '1 Mth', 'Currency': 'AUD', 'InterestRate': 0.0}\n",
        "{'MaxAmt': 999999999, 'MinAmt': 1000000, 'Product': 'HSBC AUD Foreign Currency Time Deposit', 'Period': '2 Mth', 'Currency': 'AUD', 'InterestRate': 1.43}\n",
        "{'MaxAmt': 999999999, 'MinAmt': 1000000, 'Product': 'HSBC AUD Foreign Currency Time Deposit', 'Period': '3 Mth', 'Currency': 'AUD', 'InterestRate': 1.49}\n",
        "{'MaxAmt': 999999999, 'MinAmt': 1000000, 'Product': 'HSBC AUD Foreign Currency Time Deposit', 'Period': '6 Mth', 'Currency': 'AUD', 'InterestRate': 1.53}\n",
        "{'MaxAmt': 999999999, 'MinAmt': 1000000, 'Product': 'HSBC AUD Foreign Currency Time Deposit', 'Period': '9 Mth', 'Currency': 'AUD', 'InterestRate': 1.54}\n",
        "{'MaxAmt': 999999999, 'MinAmt': 1000000, 'Product': 'HSBC AUD Foreign Currency Time Deposit', 'Period': '12 Mth', 'Currency': 'AUD', 'InterestRate': 0.0}\n",
        "{'MaxAmt': 49999, 'MinAmt': 25000, 'Product': 'HSBC AUD Foreign Currency Time Deposit', 'Period': '3 Wk', 'Currency': 'AUD', 'InterestRate': 0.0}"
       ]
      },
      {
       "output_type": "stream",
       "stream": "stdout",
       "text": [
        "\n",
        "{'MaxAmt': 49999, 'MinAmt': 25000, 'Product': 'HSBC AUD Foreign Currency Time Deposit', 'Period': '1 Mth', 'Currency': 'AUD', 'InterestRate': 0.0}\n",
        "{'MaxAmt': 49999, 'MinAmt': 25000, 'Product': 'HSBC AUD Foreign Currency Time Deposit', 'Period': '2 Mth', 'Currency': 'AUD', 'InterestRate': 0.38}\n",
        "{'MaxAmt': 49999, 'MinAmt': 25000, 'Product': 'HSBC AUD Foreign Currency Time Deposit', 'Period': '3 Mth', 'Currency': 'AUD', 'InterestRate': 0.44}\n",
        "{'MaxAmt': 49999, 'MinAmt': 25000, 'Product': 'HSBC AUD Foreign Currency Time Deposit', 'Period': '6 Mth', 'Currency': 'AUD', 'InterestRate': 0.48}\n",
        "{'MaxAmt': 49999, 'MinAmt': 25000, 'Product': 'HSBC AUD Foreign Currency Time Deposit', 'Period': '9 Mth', 'Currency': 'AUD', 'InterestRate': 0.69}\n",
        "{'MaxAmt': 49999, 'MinAmt': 25000, 'Product': 'HSBC AUD Foreign Currency Time Deposit', 'Period': '12 Mth', 'Currency': 'AUD', 'InterestRate': 0.0}\n",
        "{'MaxAmt': 99999, 'MinAmt': 50000, 'Product': 'HSBC AUD Foreign Currency Time Deposit', 'Period': '3 Wk', 'Currency': 'AUD', 'InterestRate': 0.0}\n",
        "{'MaxAmt': 99999, 'MinAmt': 50000, 'Product': 'HSBC AUD Foreign Currency Time Deposit', 'Period': '1 Mth', 'Currency': 'AUD', 'InterestRate': 0.0}\n",
        "{'MaxAmt': 99999, 'MinAmt': 50000, 'Product': 'HSBC AUD Foreign Currency Time Deposit', 'Period': '2 Mth', 'Currency': 'AUD', 'InterestRate': 0.68}\n",
        "{'MaxAmt': 99999, 'MinAmt': 50000, 'Product': 'HSBC AUD Foreign Currency Time Deposit', 'Period': '3 Mth', 'Currency': 'AUD', 'InterestRate': 0.74}\n",
        "{'MaxAmt': 99999, 'MinAmt': 50000, 'Product': 'HSBC AUD Foreign Currency Time Deposit', 'Period': '6 Mth', 'Currency': 'AUD', 'InterestRate': 0.78}\n",
        "{'MaxAmt': 99999, 'MinAmt': 50000, 'Product': 'HSBC AUD Foreign Currency Time Deposit', 'Period': '9 Mth', 'Currency': 'AUD', 'InterestRate': 0.99}\n",
        "{'MaxAmt': 99999, 'MinAmt': 50000, 'Product': 'HSBC AUD Foreign Currency Time Deposit', 'Period': '12 Mth', 'Currency': 'AUD', 'InterestRate': 0.0}\n",
        "{'MaxAmt': 249999, 'MinAmt': 100000, 'Product': 'HSBC AUD Foreign Currency Time Deposit', 'Period': '3 Wk', 'Currency': 'AUD', 'InterestRate': 0.0}\n",
        "{'MaxAmt': 249999, 'MinAmt': 100000, 'Product': 'HSBC AUD Foreign Currency Time Deposit', 'Period': '1 Mth', 'Currency': 'AUD', 'InterestRate': 0.0}\n",
        "{'MaxAmt': 249999, 'MinAmt': 100000, 'Product': 'HSBC AUD Foreign Currency Time Deposit', 'Period': '2 Mth', 'Currency': 'AUD', 'InterestRate': 0.98}\n",
        "{'MaxAmt': 249999, 'MinAmt': 100000, 'Product': 'HSBC AUD Foreign Currency Time Deposit', 'Period': '3 Mth', 'Currency': 'AUD', 'InterestRate': 1.04}\n",
        "{'MaxAmt': 249999, 'MinAmt': 100000, 'Product': 'HSBC AUD Foreign Currency Time Deposit', 'Period': '6 Mth', 'Currency': 'AUD', 'InterestRate': 1.08}\n",
        "{'MaxAmt': 249999, 'MinAmt': 100000, 'Product': 'HSBC AUD Foreign Currency Time Deposit', 'Period': '9 Mth', 'Currency': 'AUD', 'InterestRate': 1.19}\n",
        "{'MaxAmt': 249999, 'MinAmt': 100000, 'Product': 'HSBC AUD Foreign Currency Time Deposit', 'Period': '12 Mth', 'Currency': 'AUD', 'InterestRate': 0.0}\n",
        "{'MaxAmt': 499999, 'MinAmt': 250000, 'Product': 'HSBC AUD Foreign Currency Time Deposit', 'Period': '3 Wk', 'Currency': 'AUD', 'InterestRate': 0.0}\n",
        "{'MaxAmt': 499999, 'MinAmt': 250000, 'Product': 'HSBC AUD Foreign Currency Time Deposit', 'Period': '1 Mth', 'Currency': 'AUD', 'InterestRate': 0.0}\n",
        "{'MaxAmt': 499999, 'MinAmt': 250000, 'Product': 'HSBC AUD Foreign Currency Time Deposit', 'Period': '2 Mth', 'Currency': 'AUD', 'InterestRate': 1.23}\n",
        "{'MaxAmt': 499999, 'MinAmt': 250000, 'Product': 'HSBC AUD Foreign Currency Time Deposit', 'Period': '3 Mth', 'Currency': 'AUD', 'InterestRate': 1.29}\n",
        "{'MaxAmt': 499999, 'MinAmt': 250000, 'Product': 'HSBC AUD Foreign Currency Time Deposit', 'Period': '6 Mth', 'Currency': 'AUD', 'InterestRate': 1.33}\n",
        "{'MaxAmt': 499999, 'MinAmt': 250000, 'Product': 'HSBC AUD Foreign Currency Time Deposit', 'Period': '9 Mth', 'Currency': 'AUD', 'InterestRate': 1.39}\n",
        "{'MaxAmt': 499999, 'MinAmt': 250000, 'Product': 'HSBC AUD Foreign Currency Time Deposit', 'Period': '12 Mth', 'Currency': 'AUD', 'InterestRate': 0.0}\n",
        "{'MaxAmt': 999999, 'MinAmt': 500000, 'Product': 'HSBC AUD Foreign Currency Time Deposit', 'Period': '3 Wk', 'Currency': 'AUD', 'InterestRate': 0.0}\n",
        "{'MaxAmt': 999999, 'MinAmt': 500000, 'Product': 'HSBC AUD Foreign Currency Time Deposit', 'Period': '1 Mth', 'Currency': 'AUD', 'InterestRate': 0.0}\n",
        "{'MaxAmt': 999999, 'MinAmt': 500000, 'Product': 'HSBC AUD Foreign Currency Time Deposit', 'Period': '2 Mth', 'Currency': 'AUD', 'InterestRate': 1.33}\n",
        "{'MaxAmt': 999999, 'MinAmt': 500000, 'Product': 'HSBC AUD Foreign Currency Time Deposit', 'Period': '3 Mth', 'Currency': 'AUD', 'InterestRate': 1.39}\n",
        "{'MaxAmt': 999999, 'MinAmt': 500000, 'Product': 'HSBC AUD Foreign Currency Time Deposit', 'Period': '6 Mth', 'Currency': 'AUD', 'InterestRate': 1.43}\n",
        "{'MaxAmt': 999999, 'MinAmt': 500000, 'Product': 'HSBC AUD Foreign Currency Time Deposit', 'Period': '9 Mth', 'Currency': 'AUD', 'InterestRate': 1.49}\n",
        "{'MaxAmt': 999999, 'MinAmt': 500000, 'Product': 'HSBC AUD Foreign Currency Time Deposit', 'Period': '12 Mth', 'Currency': 'AUD', 'InterestRate': 0.0}\n",
        "{'MaxAmt': 999999999, 'MinAmt': 1000000, 'Product': 'HSBC AUD Foreign Currency Time Deposit', 'Period': '3 Wk', 'Currency': 'AUD', 'InterestRate': 0.0}\n",
        "{'MaxAmt': 999999999, 'MinAmt': 1000000, 'Product': 'HSBC AUD Foreign Currency Time Deposit', 'Period': '1 Mth', 'Currency': 'AUD', 'InterestRate': 0.0}\n",
        "{'MaxAmt': 999999999, 'MinAmt': 1000000, 'Product': 'HSBC AUD Foreign Currency Time Deposit', 'Period': '2 Mth', 'Currency': 'AUD', 'InterestRate': 1.43}\n",
        "{'MaxAmt': 999999999, 'MinAmt': 1000000, 'Product': 'HSBC AUD Foreign Currency Time Deposit', 'Period': '3 Mth', 'Currency': 'AUD', 'InterestRate': 1.49}\n",
        "{'MaxAmt': 999999999, 'MinAmt': 1000000, 'Product': 'HSBC AUD Foreign Currency Time Deposit', 'Period': '6 Mth', 'Currency': 'AUD', 'InterestRate': 1.53}\n",
        "{'MaxAmt': 999999999, 'MinAmt': 1000000, 'Product': 'HSBC AUD Foreign Currency Time Deposit', 'Period': '9 Mth', 'Currency': 'AUD', 'InterestRate': 1.54}\n",
        "{'MaxAmt': 999999999, 'MinAmt': 1000000, 'Product': 'HSBC AUD Foreign Currency Time Deposit', 'Period': '12 Mth', 'Currency': 'AUD', 'InterestRate': 0.0}\n",
        "{'MaxAmt': 49999, 'MinAmt': 25000, 'Product': 'HSBC AUD Foreign Currency Time Deposit', 'Period': '3 Wk', 'Currency': 'AUD', 'InterestRate': 0.0}"
       ]
      },
      {
       "output_type": "stream",
       "stream": "stdout",
       "text": [
        "\n",
        "{'MaxAmt': 49999, 'MinAmt': 25000, 'Product': 'HSBC AUD Foreign Currency Time Deposit', 'Period': '1 Mth', 'Currency': 'AUD', 'InterestRate': 0.0}\n",
        "{'MaxAmt': 49999, 'MinAmt': 25000, 'Product': 'HSBC AUD Foreign Currency Time Deposit', 'Period': '2 Mth', 'Currency': 'AUD', 'InterestRate': 0.38}\n",
        "{'MaxAmt': 49999, 'MinAmt': 25000, 'Product': 'HSBC AUD Foreign Currency Time Deposit', 'Period': '3 Mth', 'Currency': 'AUD', 'InterestRate': 0.44}\n",
        "{'MaxAmt': 49999, 'MinAmt': 25000, 'Product': 'HSBC AUD Foreign Currency Time Deposit', 'Period': '6 Mth', 'Currency': 'AUD', 'InterestRate': 0.48}\n",
        "{'MaxAmt': 49999, 'MinAmt': 25000, 'Product': 'HSBC AUD Foreign Currency Time Deposit', 'Period': '9 Mth', 'Currency': 'AUD', 'InterestRate': 0.69}\n",
        "{'MaxAmt': 49999, 'MinAmt': 25000, 'Product': 'HSBC AUD Foreign Currency Time Deposit', 'Period': '12 Mth', 'Currency': 'AUD', 'InterestRate': 0.0}\n",
        "{'MaxAmt': 99999, 'MinAmt': 50000, 'Product': 'HSBC AUD Foreign Currency Time Deposit', 'Period': '3 Wk', 'Currency': 'AUD', 'InterestRate': 0.0}\n",
        "{'MaxAmt': 99999, 'MinAmt': 50000, 'Product': 'HSBC AUD Foreign Currency Time Deposit', 'Period': '1 Mth', 'Currency': 'AUD', 'InterestRate': 0.0}\n",
        "{'MaxAmt': 99999, 'MinAmt': 50000, 'Product': 'HSBC AUD Foreign Currency Time Deposit', 'Period': '2 Mth', 'Currency': 'AUD', 'InterestRate': 0.68}\n",
        "{'MaxAmt': 99999, 'MinAmt': 50000, 'Product': 'HSBC AUD Foreign Currency Time Deposit', 'Period': '3 Mth', 'Currency': 'AUD', 'InterestRate': 0.74}\n",
        "{'MaxAmt': 99999, 'MinAmt': 50000, 'Product': 'HSBC AUD Foreign Currency Time Deposit', 'Period': '6 Mth', 'Currency': 'AUD', 'InterestRate': 0.78}\n",
        "{'MaxAmt': 99999, 'MinAmt': 50000, 'Product': 'HSBC AUD Foreign Currency Time Deposit', 'Period': '9 Mth', 'Currency': 'AUD', 'InterestRate': 0.99}\n",
        "{'MaxAmt': 99999, 'MinAmt': 50000, 'Product': 'HSBC AUD Foreign Currency Time Deposit', 'Period': '12 Mth', 'Currency': 'AUD', 'InterestRate': 0.0}\n",
        "{'MaxAmt': 249999, 'MinAmt': 100000, 'Product': 'HSBC AUD Foreign Currency Time Deposit', 'Period': '3 Wk', 'Currency': 'AUD', 'InterestRate': 0.0}\n",
        "{'MaxAmt': 249999, 'MinAmt': 100000, 'Product': 'HSBC AUD Foreign Currency Time Deposit', 'Period': '1 Mth', 'Currency': 'AUD', 'InterestRate': 0.0}\n",
        "{'MaxAmt': 249999, 'MinAmt': 100000, 'Product': 'HSBC AUD Foreign Currency Time Deposit', 'Period': '2 Mth', 'Currency': 'AUD', 'InterestRate': 0.98}\n",
        "{'MaxAmt': 249999, 'MinAmt': 100000, 'Product': 'HSBC AUD Foreign Currency Time Deposit', 'Period': '3 Mth', 'Currency': 'AUD', 'InterestRate': 1.04}\n",
        "{'MaxAmt': 249999, 'MinAmt': 100000, 'Product': 'HSBC AUD Foreign Currency Time Deposit', 'Period': '6 Mth', 'Currency': 'AUD', 'InterestRate': 1.08}\n",
        "{'MaxAmt': 249999, 'MinAmt': 100000, 'Product': 'HSBC AUD Foreign Currency Time Deposit', 'Period': '9 Mth', 'Currency': 'AUD', 'InterestRate': 1.19}\n",
        "{'MaxAmt': 249999, 'MinAmt': 100000, 'Product': 'HSBC AUD Foreign Currency Time Deposit', 'Period': '12 Mth', 'Currency': 'AUD', 'InterestRate': 0.0}\n",
        "{'MaxAmt': 499999, 'MinAmt': 250000, 'Product': 'HSBC AUD Foreign Currency Time Deposit', 'Period': '3 Wk', 'Currency': 'AUD', 'InterestRate': 0.0}\n",
        "{'MaxAmt': 499999, 'MinAmt': 250000, 'Product': 'HSBC AUD Foreign Currency Time Deposit', 'Period': '1 Mth', 'Currency': 'AUD', 'InterestRate': 0.0}\n",
        "{'MaxAmt': 499999, 'MinAmt': 250000, 'Product': 'HSBC AUD Foreign Currency Time Deposit', 'Period': '2 Mth', 'Currency': 'AUD', 'InterestRate': 1.23}\n",
        "{'MaxAmt': 499999, 'MinAmt': 250000, 'Product': 'HSBC AUD Foreign Currency Time Deposit', 'Period': '3 Mth', 'Currency': 'AUD', 'InterestRate': 1.29}\n",
        "{'MaxAmt': 499999, 'MinAmt': 250000, 'Product': 'HSBC AUD Foreign Currency Time Deposit', 'Period': '6 Mth', 'Currency': 'AUD', 'InterestRate': 1.33}\n",
        "{'MaxAmt': 499999, 'MinAmt': 250000, 'Product': 'HSBC AUD Foreign Currency Time Deposit', 'Period': '9 Mth', 'Currency': 'AUD', 'InterestRate': 1.39}\n",
        "{'MaxAmt': 499999, 'MinAmt': 250000, 'Product': 'HSBC AUD Foreign Currency Time Deposit', 'Period': '12 Mth', 'Currency': 'AUD', 'InterestRate': 0.0}\n",
        "{'MaxAmt': 999999, 'MinAmt': 500000, 'Product': 'HSBC AUD Foreign Currency Time Deposit', 'Period': '3 Wk', 'Currency': 'AUD', 'InterestRate': 0.0}\n",
        "{'MaxAmt': 999999, 'MinAmt': 500000, 'Product': 'HSBC AUD Foreign Currency Time Deposit', 'Period': '1 Mth', 'Currency': 'AUD', 'InterestRate': 0.0}\n",
        "{'MaxAmt': 999999, 'MinAmt': 500000, 'Product': 'HSBC AUD Foreign Currency Time Deposit', 'Period': '2 Mth', 'Currency': 'AUD', 'InterestRate': 1.33}\n",
        "{'MaxAmt': 999999, 'MinAmt': 500000, 'Product': 'HSBC AUD Foreign Currency Time Deposit', 'Period': '3 Mth', 'Currency': 'AUD', 'InterestRate': 1.39}\n",
        "{'MaxAmt': 999999, 'MinAmt': 500000, 'Product': 'HSBC AUD Foreign Currency Time Deposit', 'Period': '6 Mth', 'Currency': 'AUD', 'InterestRate': 1.43}\n",
        "{'MaxAmt': 999999, 'MinAmt': 500000, 'Product': 'HSBC AUD Foreign Currency Time Deposit', 'Period': '9 Mth', 'Currency': 'AUD', 'InterestRate': 1.49}\n",
        "{'MaxAmt': 999999, 'MinAmt': 500000, 'Product': 'HSBC AUD Foreign Currency Time Deposit', 'Period': '12 Mth', 'Currency': 'AUD', 'InterestRate': 0.0}\n",
        "{'MaxAmt': 999999999, 'MinAmt': 1000000, 'Product': 'HSBC AUD Foreign Currency Time Deposit', 'Period': '3 Wk', 'Currency': 'AUD', 'InterestRate': 0.0}\n",
        "{'MaxAmt': 999999999, 'MinAmt': 1000000, 'Product': 'HSBC AUD Foreign Currency Time Deposit', 'Period': '1 Mth', 'Currency': 'AUD', 'InterestRate': 0.0}\n",
        "{'MaxAmt': 999999999, 'MinAmt': 1000000, 'Product': 'HSBC AUD Foreign Currency Time Deposit', 'Period': '2 Mth', 'Currency': 'AUD', 'InterestRate': 1.43}\n",
        "{'MaxAmt': 999999999, 'MinAmt': 1000000, 'Product': 'HSBC AUD Foreign Currency Time Deposit', 'Period': '3 Mth', 'Currency': 'AUD', 'InterestRate': 1.49}\n",
        "{'MaxAmt': 999999999, 'MinAmt': 1000000, 'Product': 'HSBC AUD Foreign Currency Time Deposit', 'Period': '6 Mth', 'Currency': 'AUD', 'InterestRate': 1.53}\n",
        "{'MaxAmt': 999999999, 'MinAmt': 1000000, 'Product': 'HSBC AUD Foreign Currency Time Deposit', 'Period': '9 Mth', 'Currency': 'AUD', 'InterestRate': 1.54}\n",
        "{'MaxAmt': 999999999, 'MinAmt': 1000000, 'Product': 'HSBC AUD Foreign Currency Time Deposit', 'Period': '12 Mth', 'Currency': 'AUD', 'InterestRate': 0.0}\n",
        "1 loops, best of 3: 3.24 s per loop\n"
       ]
      }
     ],
     "prompt_number": 9
    },
    {
     "cell_type": "code",
     "collapsed": false,
     "input": [
      "import numpy as np\n",
      "\n",
      "%timeit a = np.random.rand(100, 100)\n",
      "a = np.random.rand(100, 100)\n",
      "np.linalg.eigvals(a)"
     ],
     "language": "python",
     "metadata": {},
     "outputs": [
      {
       "output_type": "stream",
       "stream": "stdout",
       "text": [
        "10000 loops, best of 3: 176 \u00b5s per loop\n"
       ]
      },
      {
       "metadata": {},
       "output_type": "pyout",
       "prompt_number": 13,
       "text": [
        "array([ 49.83226785+0.j        ,  -2.52065216+1.72461283j,\n",
        "        -2.52065216-1.72461283j,   1.45863066+2.47059872j,\n",
        "         1.45863066-2.47059872j,  -2.70247231+0.j        ,\n",
        "        -2.47153747+0.5747731j ,  -2.47153747-0.5747731j ,\n",
        "         1.94681682+1.98576057j,   1.94681682-1.98576057j,\n",
        "        -1.78636838+1.97462977j,  -1.78636838-1.97462977j,\n",
        "         2.30341948+1.4059016j ,   2.30341948-1.4059016j ,\n",
        "        -1.51649463+2.14620596j,  -1.51649463-2.14620596j,\n",
        "         0.78671987+2.59906178j,   0.78671987-2.59906178j,\n",
        "         2.08122100+1.6386787j ,   2.08122100-1.6386787j ,\n",
        "         2.61118003+0.37646965j,   2.61118003-0.37646965j,\n",
        "         2.54370892+0.j        ,  -2.20903947+1.08368405j,\n",
        "        -2.20903947-1.08368405j,  -2.32870208+0.j        ,\n",
        "         2.31665741+0.93617247j,   2.31665741-0.93617247j,\n",
        "        -0.29019965+2.51398496j,  -0.29019965-2.51398496j,\n",
        "        -1.91234529+1.02206599j,  -1.91234529-1.02206599j,\n",
        "        -0.69102200+2.22923716j,  -0.69102200-2.22923716j,\n",
        "         1.46186722+1.75317464j,   1.46186722-1.75317464j,\n",
        "        -0.33710328+2.25950428j,  -0.33710328-2.25950428j,\n",
        "         0.76247920+2.15188042j,   0.76247920-2.15188042j,\n",
        "         2.17096936+0.66154254j,   2.17096936-0.66154254j,\n",
        "         0.75006666+2.12792426j,   0.75006666-2.12792426j,\n",
        "        -1.45320911+1.60903633j,  -1.45320911-1.60903633j,\n",
        "        -0.26299864+2.20634929j,  -0.26299864-2.20634929j,\n",
        "        -1.36630616+1.47114701j,  -1.36630616-1.47114701j,\n",
        "         2.01093318+0.29335562j,   2.01093318-0.29335562j,\n",
        "        -1.88099022+0.17983497j,  -1.88099022-0.17983497j,\n",
        "        -1.42744609+1.06078194j,  -1.42744609-1.06078194j,\n",
        "        -0.24869940+1.86702041j,  -0.24869940-1.86702041j,\n",
        "         1.10416452+1.37589364j,   1.10416452-1.37589364j,\n",
        "        -0.86716674+1.36510686j,  -0.86716674-1.36510686j,\n",
        "         0.94802234+1.42638183j,   0.94802234-1.42638183j,\n",
        "         1.48478887+0.7513277j ,   1.48478887-0.7513277j ,\n",
        "        -0.57148344+1.45365494j,  -0.57148344-1.45365494j,\n",
        "         1.29121002+1.00436101j,   1.29121002-1.00436101j,\n",
        "         0.47295413+1.49059406j,   0.47295413-1.49059406j,\n",
        "        -1.44233507+0.22274519j,  -1.44233507-0.22274519j,\n",
        "         1.16007890+1.0075035j ,   1.16007890-1.0075035j ,\n",
        "        -0.19032505+1.45056306j,  -0.19032505-1.45056306j,\n",
        "         1.40887227+0.07504673j,   1.40887227-0.07504673j,\n",
        "        -1.12673859+0.23422077j,  -1.12673859-0.23422077j,\n",
        "         0.40900682+1.27429552j,   0.40900682-1.27429552j,\n",
        "        -1.01542756+0.j        ,  -0.16561939+1.08824648j,\n",
        "        -0.16561939-1.08824648j,   1.01440103+0.j        ,\n",
        "        -0.84536761+0.08463043j,  -0.84536761-0.08463043j,\n",
        "         0.49809307+0.73317822j,   0.49809307-0.73317822j,\n",
        "        -0.44003272+0.60966551j,  -0.44003272-0.60966551j,\n",
        "        -0.41512871+0.j        ,   0.10656711+0.6301937j ,\n",
        "         0.10656711-0.6301937j ,   0.47967700+0.36326624j,\n",
        "         0.47967700-0.36326624j,   0.11507405+0.j        ])"
       ]
      }
     ],
     "prompt_number": 13
    },
    {
     "cell_type": "code",
     "collapsed": false,
     "input": [
      "input = raw_input()\n",
      "print \"input given\",input"
     ],
     "language": "python",
     "metadata": {},
     "outputs": [
      {
       "name": "stdout",
       "output_type": "stream",
       "stream": "stdout",
       "text": [
        "input\n"
       ]
      },
      {
       "output_type": "stream",
       "stream": "stdout",
       "text": [
        "input given input\n"
       ]
      }
     ],
     "prompt_number": 16
    },
    {
     "cell_type": "code",
     "collapsed": false,
     "input": [
      "%history"
     ],
     "language": "python",
     "metadata": {},
     "outputs": [
      {
       "output_type": "stream",
       "stream": "stdout",
       "text": [
        "!sudo pip install Ipython #usage of magic in ipython notebook\n",
        "#consider a scenario\n",
        "!ls\n",
        "!sudo pip install Ipython \n",
        "#usage of magic in ipython notebook\n",
        "#consider a scenario\n",
        "!ls\n",
        "%install_default_config\n",
        "##Distribute the notebook over the lan \n",
        "!ifconfig\n",
        "##best for collaboration and managing workspaces\n",
        "#For learners\n",
        "int?\n",
        "int?\n",
        "import pandas\n",
        "int?\n",
        "import pandas\n",
        "pandas.Categorical?\n",
        "#Magic Functions\n",
        "%lsmagic\n",
        "%timeit\n",
        "%lsmagic\n",
        "%timeit \n",
        "!ping google.com\n",
        "%lsmagic\n",
        "input = raw_input()\n",
        "input = raw_input()\n",
        "print \"input\",input\n",
        "input = raw_input()\n",
        "print \"input given\",input\n",
        "%history\n"
       ]
      }
     ],
     "prompt_number": 17
    },
    {
     "cell_type": "code",
     "collapsed": false,
     "input": [
      "%pastebin 3 18-20 ~1/1-5"
     ],
     "language": "python",
     "metadata": {},
     "outputs": [
      {
       "metadata": {},
       "output_type": "pyout",
       "prompt_number": 18,
       "text": [
        "u'https://gist.github.com/5901d1a0dbaf23e8a4a9'"
       ]
      }
     ],
     "prompt_number": 18
    },
    {
     "cell_type": "code",
     "collapsed": false,
     "input": [
      "%dhist\n",
      "%cd \"~/Documents/talks/ipython-talk/\""
     ],
     "language": "python",
     "metadata": {},
     "outputs": [
      {
       "output_type": "stream",
       "stream": "stdout",
       "text": [
        "Directory history (kept in _dh)\n",
        "0: /home/g/Documents/talks/ipython-talk\n",
        "1: /home/g\n",
        "/home/g/Documents/talks/ipython-talk\n"
       ]
      }
     ],
     "prompt_number": 22
    },
    {
     "cell_type": "code",
     "collapsed": false,
     "input": [
      "\n",
      "%alias ping_google ping google.com #type an command"
     ],
     "language": "python",
     "metadata": {},
     "outputs": [],
     "prompt_number": 24
    },
    {
     "cell_type": "code",
     "collapsed": false,
     "input": [
      "ping_google\n"
     ],
     "language": "python",
     "metadata": {},
     "outputs": [
      {
       "output_type": "stream",
       "stream": "stdout",
       "text": [
        "PING google.com (74.125.236.133) 56(84) bytes of data.\r\n"
       ]
      },
      {
       "output_type": "stream",
       "stream": "stdout",
       "text": [
        "64 bytes from bom03s02-in-f5.1e100.net (74.125.236.133): icmp_seq=1 ttl=57 time=112 ms\r\n"
       ]
      },
      {
       "output_type": "stream",
       "stream": "stdout",
       "text": [
        "64 bytes from bom03s02-in-f5.1e100.net (74.125.236.133): icmp_seq=2 ttl=57 time=120 ms\r\n"
       ]
      },
      {
       "output_type": "stream",
       "stream": "stdout",
       "text": [
        "64 bytes from bom03s02-in-f5.1e100.net (74.125.236.133): icmp_seq=3 ttl=57 time=117 ms\r\n"
       ]
      },
      {
       "output_type": "stream",
       "stream": "stdout",
       "text": [
        "^C\r\n",
        "--- google.com ping statistics ---\r\n",
        "3 packets transmitted, 3 received, 0% packet loss, time 2002ms\r\n",
        "rtt min/avg/max/mdev = 112.664/116.780/120.207/3.142 ms\r\n",
        "\r\n"
       ]
      }
     ],
     "prompt_number": 25
    },
    {
     "cell_type": "code",
     "collapsed": false,
     "input": [
      "from IPython import embed\n",
      "a = 10\n",
      "b = 20\n",
      "\n",
      "c = 30\n",
      "d = 40\n"
     ],
     "language": "python",
     "metadata": {},
     "outputs": [],
     "prompt_number": 35
    },
    {
     "cell_type": "code",
     "collapsed": false,
     "input": [
      "%doctest_mode\n"
     ],
     "language": "python",
     "metadata": {},
     "outputs": [
      {
       "output_type": "stream",
       "stream": "stdout",
       "text": [
        "Exception reporting mode: Context\n",
        "Doctest mode is: OFF\n"
       ]
      }
     ],
     "prompt_number": 37
    },
    {
     "cell_type": "markdown",
     "metadata": {},
     "source": [
      "#PLUGINS"
     ]
    },
    {
     "cell_type": "markdown",
     "metadata": {},
     "source": [
      "https://github.com/ipython-contrib/IPython-notebook-extensions/wiki "
     ]
    },
    {
     "cell_type": "code",
     "collapsed": false,
     "input": [
      "%install_ext https://bitbucket.org/birkenfeld/ipython-physics/raw/default/physics.py"
     ],
     "language": "python",
     "metadata": {},
     "outputs": [
      {
       "output_type": "stream",
       "stream": "stdout",
       "text": [
        "Installed physics.py. To use it, type:\n",
        "  %load_ext physics\n"
       ]
      }
     ],
     "prompt_number": 6
    },
    {
     "cell_type": "markdown",
     "metadata": {},
     "source": [
      "https://github.com/ipython-contrib/IPython-notebook-extensions"
     ]
    },
    {
     "cell_type": "code",
     "collapsed": false,
     "input": [],
     "language": "python",
     "metadata": {},
     "outputs": []
    }
   ],
   "metadata": {}
  }
 ]
}
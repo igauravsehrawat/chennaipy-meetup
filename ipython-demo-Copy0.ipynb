{
 "metadata": {
  "name": ""
 },
 "nbformat": 3,
 "nbformat_minor": 0,
 "worksheets": [
  {
   "cells": [
    {
     "cell_type": "markdown",
     "metadata": {},
     "source": [
      "##HOW TO ENHANCE PYTHON PRODUCTIVITY"
     ]
    },
    {
     "cell_type": "markdown",
     "metadata": {},
     "source": [
      "TIPS AND TRICKS OF IPYTHON\n",
      "------------------------------------"
     ]
    },
    {
     "cell_type": "markdown",
     "metadata": {},
     "source": [
      "* ###Installing ipython(use version 2.* onwards)\n",
      "* ###ipython shortcuts\n",
      "* ###ipython plugins\n",
      "* ###ipython slides in markdown"
     ]
    },
    {
     "cell_type": "markdown",
     "metadata": {},
     "source": [
      "Insert images\n",
      "----------------\n",
      "![what's happening](http://media.tumblr.com/650a0dc4ce1374b2c2b27e604a19d26a/tumblr_mzaxwpamPb1s373hwo1_250.gif)"
     ]
    },
    {
     "cell_type": "code",
     "collapsed": false,
     "input": [
      "from IPython.display import Image"
     ],
     "language": "python",
     "metadata": {},
     "outputs": [],
     "prompt_number": 2
    },
    {
     "cell_type": "code",
     "collapsed": false,
     "input": [
      "!sudo pip install Ipython"
     ],
     "language": "python",
     "metadata": {},
     "outputs": [
      {
       "output_type": "stream",
       "stream": "stdout",
       "text": [
        "Requirement already satisfied (use --upgrade to upgrade): Ipython in /usr/lib/python2.7/dist-packages\r\n"
       ]
      },
      {
       "output_type": "stream",
       "stream": "stdout",
       "text": [
        "Cleaning up...\r\n"
       ]
      }
     ],
     "prompt_number": 1
    },
    {
     "cell_type": "code",
     "collapsed": false,
     "input": [
      "Now "
     ],
     "language": "python",
     "metadata": {},
     "outputs": []
    }
   ],
   "metadata": {}
  }
 ]
}
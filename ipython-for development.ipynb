{
 "metadata": {
  "name": ""
 },
 "nbformat": 3,
 "nbformat_minor": 0,
 "worksheets": [
  {
   "cells": [
    {
     "cell_type": "markdown",
     "metadata": {},
     "source": [
      "##HOW TO ENHANCE PYTHON PRODUCTIVITY"
     ]
    },
    {
     "cell_type": "code",
     "collapsed": false,
     "input": [],
     "language": "python",
     "metadata": {},
     "outputs": []
    },
    {
     "cell_type": "code",
     "collapsed": false,
     "input": [],
     "language": "python",
     "metadata": {},
     "outputs": []
    },
    {
     "cell_type": "markdown",
     "metadata": {},
     "source": [
      "TIPS AND TRICKS OF IPYTHON\n",
      "------------------------------------"
     ]
    },
    {
     "cell_type": "markdown",
     "metadata": {},
     "source": [
      "* ###Installing ipython\n",
      "* ###ipython shortcuts\n",
      "* ###ipython plugins\n",
      "* ###ipython slides in markdown"
     ]
    },
    {
     "cell_type": "code",
     "collapsed": false,
     "input": [
      "from IPython.display import Image"
     ],
     "language": "python",
     "metadata": {},
     "outputs": [],
     "prompt_number": 2
    },
    {
     "cell_type": "code",
     "collapsed": false,
     "input": [
      "!sudo pip install Ipython \n",
      "#usage of magic in ipython notebook\n",
      "#consider a scenario #missing dependencies\n",
      "!ls "
     ],
     "language": "python",
     "metadata": {},
     "outputs": [
      {
       "output_type": "stream",
       "stream": "stdout",
       "text": [
        "Requirement already satisfied (use --upgrade to upgrade): Ipython in /usr/lib/python2.7/dist-packages\r\n",
        "Cleaning up...\r\n"
       ]
      },
      {
       "output_type": "stream",
       "stream": "stdout",
       "text": [
        "archives.html\t checkpoints.ipynb\t    ipython-demo-Copy0.ipynb\t    theme\r\n",
        "author\t\t chennaipy-dec-meetup.html  ipython-for development.ipynb   video_demo.mp4\r\n",
        "authors.html\t feeds\t\t\t    ipython-for-presentation.ipynb\r\n",
        "categories.html  hsbcForeign.py\t\t    tag\r\n",
        "category\t index.html\t\t    tags.html\r\n"
       ]
      }
     ],
     "prompt_number": 1
    },
    {
     "cell_type": "code",
     "collapsed": false,
     "input": [
      "!pip show ipython"
     ],
     "language": "python",
     "metadata": {},
     "outputs": [
      {
       "output_type": "stream",
       "stream": "stdout",
       "text": [
        "---\r\n",
        "Name: ipython\r\n",
        "Version: 1.2.1\r\n",
        "Location: /usr/lib/python2.7/dist-packages\r\n",
        "Requires: \r\n"
       ]
      }
     ],
     "prompt_number": 3
    },
    {
     "cell_type": "code",
     "collapsed": false,
     "input": [
      "!ifconfig"
     ],
     "language": "python",
     "metadata": {},
     "outputs": [
      {
       "output_type": "stream",
       "stream": "stdout",
       "text": [
        "eth0      Link encap:Ethernet  HWaddr 14:fe:b5:af:14:3f  \r\n",
        "          UP BROADCAST MULTICAST  MTU:1500  Metric:1\r\n",
        "          RX packets:0 errors:0 dropped:0 overruns:0 frame:0\r\n",
        "          TX packets:0 errors:0 dropped:0 overruns:0 carrier:0\r\n",
        "          collisions:0 txqueuelen:1000 \r\n",
        "          RX bytes:0 (0.0 B)  TX bytes:0 (0.0 B)\r\n",
        "\r\n",
        "lo        Link encap:Local Loopback  \r\n",
        "          inet addr:127.0.0.1  Mask:255.0.0.0\r\n",
        "          inet6 addr: ::1/128 Scope:Host\r\n",
        "          UP LOOPBACK RUNNING  MTU:65536  Metric:1\r\n",
        "          RX packets:2437 errors:0 dropped:0 overruns:0 frame:0\r\n",
        "          TX packets:2437 errors:0 dropped:0 overruns:0 carrier:0\r\n",
        "          collisions:0 txqueuelen:0 \r\n",
        "          RX bytes:9178659 (9.1 MB)  TX bytes:9178659 (9.1 MB)\r\n",
        "\r\n",
        "mon.wlan0 Link encap:UNSPEC  HWaddr BC-77-37-73-CE-DB-3A-30-00-00-00-00-00-00-00-00  \r\n",
        "          UP BROADCAST RUNNING MULTICAST  MTU:1500  Metric:1\r\n",
        "          RX packets:11 errors:0 dropped:0 overruns:0 frame:0\r\n",
        "          TX packets:0 errors:0 dropped:0 overruns:0 carrier:0\r\n",
        "          collisions:0 txqueuelen:1000 \r\n",
        "          RX bytes:1586 (1.5 KB)  TX bytes:0 (0.0 B)\r\n",
        "\r\n",
        "ppp0      Link encap:Point-to-Point Protocol  \r\n",
        "          inet addr:14.99.138.93  P-t-P:172.23.130.4  Mask:255.255.255.255\r\n",
        "          UP POINTOPOINT RUNNING NOARP MULTICAST  MTU:1500  Metric:1\r\n",
        "          RX packets:3646 errors:0 dropped:0 overruns:0 frame:0\r\n",
        "          TX packets:4008 errors:0 dropped:0 overruns:0 carrier:0\r\n",
        "          collisions:0 txqueuelen:3 \r\n",
        "          RX bytes:2136078 (2.1 MB)  TX bytes:571529 (571.5 KB)\r\n",
        "\r\n",
        "wlan0     Link encap:Ethernet  HWaddr bc:77:37:73:ce:db  \r\n",
        "          inet addr:192.168.150.1  Bcast:192.168.150.255  Mask:255.255.255.0\r\n",
        "          inet6 addr: fe80::be77:37ff:fe73:cedb/64 Scope:Link\r\n",
        "          UP BROADCAST RUNNING MULTICAST  MTU:1500  Metric:1\r\n",
        "          RX packets:0 errors:0 dropped:0 overruns:0 frame:0\r\n",
        "          TX packets:10 errors:0 dropped:0 overruns:0 carrier:0\r\n",
        "          collisions:0 txqueuelen:1000 \r\n",
        "          RX bytes:0 (0.0 B)  TX bytes:1961 (1.9 KB)\r\n",
        "\r\n"
       ]
      }
     ],
     "prompt_number": 1
    },
    {
     "cell_type": "markdown",
     "metadata": {},
     "source": [
      "##Distribute the notebook over the lan \n",
      "####send over the eth0 ipaddress or wlan0 ipadress with the port"
     ]
    },
    {
     "cell_type": "markdown",
     "metadata": {},
     "source": [
      "##best for collaboration and managing workspaces"
     ]
    },
    {
     "cell_type": "code",
     "collapsed": false,
     "input": [],
     "language": "python",
     "metadata": {},
     "outputs": []
    },
    {
     "cell_type": "code",
     "collapsed": false,
     "input": [
      "##shortcuts\n",
      "#space means it is not continous\n",
      "Ctrl+m a #insert below\n",
      "Ctrl+m b #for new cell under the current selected cell\n",
      "Ctrl+m x #cut\n",
      "Ctrl+m c #copy\n",
      "Ctrl+m v #paste\n",
      "Ctrl + Enter #runs inplace\n",
      "Shit + Enter #runs cell and create new cell below it\n",
      "---------------output formatting\n",
      "Ctrl+m l #toggle line numbers\n",
      "Ctrl+m o #toggle output\n",
      "-----------------different modes\n",
      "Ctrl+m m #convert to markdown\n",
      "Ctrl+m t #raw text\n",
      "Ctrl+m y #code cell\n",
      "------------------ Movement\n",
      "Ctrl+m k #cell up\n",
      "Ctrl+m j #cell down\n",
      "\n",
      "----------------------\n",
      "Ctrl+m s #for save\n",
      "Ctrl+m h #for help"
     ],
     "language": "python",
     "metadata": {},
     "outputs": []
    },
    {
     "cell_type": "code",
     "collapsed": false,
     "input": [],
     "language": "python",
     "metadata": {},
     "outputs": []
    },
    {
     "cell_type": "markdown",
     "metadata": {},
     "source": [
      "#For learners\n"
     ]
    },
    {
     "cell_type": "code",
     "collapsed": false,
     "input": [
      "int?\n",
      "import pandas\n",
      "#autocompletion\n",
      "pandas.Categorical?\n",
      "pandas."
     ],
     "language": "python",
     "metadata": {},
     "outputs": [],
     "prompt_number": 4
    },
    {
     "cell_type": "markdown",
     "metadata": {},
     "source": [
      "#Magic Functions"
     ]
    },
    {
     "cell_type": "code",
     "collapsed": false,
     "input": [
      "%timeit %run hsbcForeign.py \n"
     ],
     "language": "python",
     "metadata": {},
     "outputs": [
      {
       "output_type": "stream",
       "stream": "stdout",
       "text": [
        "{'MaxAmt': 49999, 'MinAmt': 25000, 'Product': 'HSBC AUD Foreign Currency Time Deposit', 'Period': '3 Wk', 'Currency': 'AUD', 'InterestRate': 0.0}\n",
        "{'MaxAmt': 49999, 'MinAmt': 25000, 'Product': 'HSBC AUD Foreign Currency Time Deposit', 'Period': '1 Mth', 'Currency': 'AUD', 'InterestRate': 0.0}\n",
        "{'MaxAmt': 49999, 'MinAmt': 25000, 'Product': 'HSBC AUD Foreign Currency Time Deposit', 'Period': '2 Mth', 'Currency': 'AUD', 'InterestRate': 0.38}\n",
        "{'MaxAmt': 49999, 'MinAmt': 25000, 'Product': 'HSBC AUD Foreign Currency Time Deposit', 'Period': '3 Mth', 'Currency': 'AUD', 'InterestRate': 0.44}\n",
        "{'MaxAmt': 49999, 'MinAmt': 25000, 'Product': 'HSBC AUD Foreign Currency Time Deposit', 'Period': '6 Mth', 'Currency': 'AUD', 'InterestRate': 0.48}\n",
        "{'MaxAmt': 49999, 'MinAmt': 25000, 'Product': 'HSBC AUD Foreign Currency Time Deposit', 'Period': '9 Mth', 'Currency': 'AUD', 'InterestRate': 0.69}\n",
        "{'MaxAmt': 49999, 'MinAmt': 25000, 'Product': 'HSBC AUD Foreign Currency Time Deposit', 'Period': '12 Mth', 'Currency': 'AUD', 'InterestRate': 0.0}\n",
        "{'MaxAmt': 99999, 'MinAmt': 50000, 'Product': 'HSBC AUD Foreign Currency Time Deposit', 'Period': '3 Wk', 'Currency': 'AUD', 'InterestRate': 0.0}\n",
        "{'MaxAmt': 99999, 'MinAmt': 50000, 'Product': 'HSBC AUD Foreign Currency Time Deposit', 'Period': '1 Mth', 'Currency': 'AUD', 'InterestRate': 0.0}\n",
        "{'MaxAmt': 99999, 'MinAmt': 50000, 'Product': 'HSBC AUD Foreign Currency Time Deposit', 'Period': '2 Mth', 'Currency': 'AUD', 'InterestRate': 0.68}\n",
        "{'MaxAmt': 99999, 'MinAmt': 50000, 'Product': 'HSBC AUD Foreign Currency Time Deposit', 'Period': '3 Mth', 'Currency': 'AUD', 'InterestRate': 0.74}\n",
        "{'MaxAmt': 99999, 'MinAmt': 50000, 'Product': 'HSBC AUD Foreign Currency Time Deposit', 'Period': '6 Mth', 'Currency': 'AUD', 'InterestRate': 0.78}\n",
        "{'MaxAmt': 99999, 'MinAmt': 50000, 'Product': 'HSBC AUD Foreign Currency Time Deposit', 'Period': '9 Mth', 'Currency': 'AUD', 'InterestRate': 0.99}\n",
        "{'MaxAmt': 99999, 'MinAmt': 50000, 'Product': 'HSBC AUD Foreign Currency Time Deposit', 'Period': '12 Mth', 'Currency': 'AUD', 'InterestRate': 0.0}\n",
        "{'MaxAmt': 249999, 'MinAmt': 100000, 'Product': 'HSBC AUD Foreign Currency Time Deposit', 'Period': '3 Wk', 'Currency': 'AUD', 'InterestRate': 0.0}\n",
        "{'MaxAmt': 249999, 'MinAmt': 100000, 'Product': 'HSBC AUD Foreign Currency Time Deposit', 'Period': '1 Mth', 'Currency': 'AUD', 'InterestRate': 0.0}\n",
        "{'MaxAmt': 249999, 'MinAmt': 100000, 'Product': 'HSBC AUD Foreign Currency Time Deposit', 'Period': '2 Mth', 'Currency': 'AUD', 'InterestRate': 0.98}\n",
        "{'MaxAmt': 249999, 'MinAmt': 100000, 'Product': 'HSBC AUD Foreign Currency Time Deposit', 'Period': '3 Mth', 'Currency': 'AUD', 'InterestRate': 1.04}\n",
        "{'MaxAmt': 249999, 'MinAmt': 100000, 'Product': 'HSBC AUD Foreign Currency Time Deposit', 'Period': '6 Mth', 'Currency': 'AUD', 'InterestRate': 1.08}\n",
        "{'MaxAmt': 249999, 'MinAmt': 100000, 'Product': 'HSBC AUD Foreign Currency Time Deposit', 'Period': '9 Mth', 'Currency': 'AUD', 'InterestRate': 1.19}\n",
        "{'MaxAmt': 249999, 'MinAmt': 100000, 'Product': 'HSBC AUD Foreign Currency Time Deposit', 'Period': '12 Mth', 'Currency': 'AUD', 'InterestRate': 0.0}\n",
        "{'MaxAmt': 499999, 'MinAmt': 250000, 'Product': 'HSBC AUD Foreign Currency Time Deposit', 'Period': '3 Wk', 'Currency': 'AUD', 'InterestRate': 0.0}\n",
        "{'MaxAmt': 499999, 'MinAmt': 250000, 'Product': 'HSBC AUD Foreign Currency Time Deposit', 'Period': '1 Mth', 'Currency': 'AUD', 'InterestRate': 0.0}\n",
        "{'MaxAmt': 499999, 'MinAmt': 250000, 'Product': 'HSBC AUD Foreign Currency Time Deposit', 'Period': '2 Mth', 'Currency': 'AUD', 'InterestRate': 1.23}\n",
        "{'MaxAmt': 499999, 'MinAmt': 250000, 'Product': 'HSBC AUD Foreign Currency Time Deposit', 'Period': '3 Mth', 'Currency': 'AUD', 'InterestRate': 1.29}\n",
        "{'MaxAmt': 499999, 'MinAmt': 250000, 'Product': 'HSBC AUD Foreign Currency Time Deposit', 'Period': '6 Mth', 'Currency': 'AUD', 'InterestRate': 1.33}\n",
        "{'MaxAmt': 499999, 'MinAmt': 250000, 'Product': 'HSBC AUD Foreign Currency Time Deposit', 'Period': '9 Mth', 'Currency': 'AUD', 'InterestRate': 1.39}\n",
        "{'MaxAmt': 499999, 'MinAmt': 250000, 'Product': 'HSBC AUD Foreign Currency Time Deposit', 'Period': '12 Mth', 'Currency': 'AUD', 'InterestRate': 0.0}\n",
        "{'MaxAmt': 999999, 'MinAmt': 500000, 'Product': 'HSBC AUD Foreign Currency Time Deposit', 'Period': '3 Wk', 'Currency': 'AUD', 'InterestRate': 0.0}\n",
        "{'MaxAmt': 999999, 'MinAmt': 500000, 'Product': 'HSBC AUD Foreign Currency Time Deposit', 'Period': '1 Mth', 'Currency': 'AUD', 'InterestRate': 0.0}\n",
        "{'MaxAmt': 999999, 'MinAmt': 500000, 'Product': 'HSBC AUD Foreign Currency Time Deposit', 'Period': '2 Mth', 'Currency': 'AUD', 'InterestRate': 1.33}\n",
        "{'MaxAmt': 999999, 'MinAmt': 500000, 'Product': 'HSBC AUD Foreign Currency Time Deposit', 'Period': '3 Mth', 'Currency': 'AUD', 'InterestRate': 1.39}\n",
        "{'MaxAmt': 999999, 'MinAmt': 500000, 'Product': 'HSBC AUD Foreign Currency Time Deposit', 'Period': '6 Mth', 'Currency': 'AUD', 'InterestRate': 1.43}\n",
        "{'MaxAmt': 999999, 'MinAmt': 500000, 'Product': 'HSBC AUD Foreign Currency Time Deposit', 'Period': '9 Mth', 'Currency': 'AUD', 'InterestRate': 1.49}\n",
        "{'MaxAmt': 999999, 'MinAmt': 500000, 'Product': 'HSBC AUD Foreign Currency Time Deposit', 'Period': '12 Mth', 'Currency': 'AUD', 'InterestRate': 0.0}\n",
        "{'MaxAmt': 999999999, 'MinAmt': 1000000, 'Product': 'HSBC AUD Foreign Currency Time Deposit', 'Period': '3 Wk', 'Currency': 'AUD', 'InterestRate': 0.0}\n",
        "{'MaxAmt': 999999999, 'MinAmt': 1000000, 'Product': 'HSBC AUD Foreign Currency Time Deposit', 'Period': '1 Mth', 'Currency': 'AUD', 'InterestRate': 0.0}\n",
        "{'MaxAmt': 999999999, 'MinAmt': 1000000, 'Product': 'HSBC AUD Foreign Currency Time Deposit', 'Period': '2 Mth', 'Currency': 'AUD', 'InterestRate': 1.43}\n",
        "{'MaxAmt': 999999999, 'MinAmt': 1000000, 'Product': 'HSBC AUD Foreign Currency Time Deposit', 'Period': '3 Mth', 'Currency': 'AUD', 'InterestRate': 1.49}\n",
        "{'MaxAmt': 999999999, 'MinAmt': 1000000, 'Product': 'HSBC AUD Foreign Currency Time Deposit', 'Period': '6 Mth', 'Currency': 'AUD', 'InterestRate': 1.53}\n",
        "{'MaxAmt': 999999999, 'MinAmt': 1000000, 'Product': 'HSBC AUD Foreign Currency Time Deposit', 'Period': '9 Mth', 'Currency': 'AUD', 'InterestRate': 1.54}\n",
        "{'MaxAmt': 999999999, 'MinAmt': 1000000, 'Product': 'HSBC AUD Foreign Currency Time Deposit', 'Period': '12 Mth', 'Currency': 'AUD', 'InterestRate': 0.0}\n",
        "{'MaxAmt': 49999, 'MinAmt': 25000, 'Product': 'HSBC AUD Foreign Currency Time Deposit', 'Period': '3 Wk', 'Currency': 'AUD', 'InterestRate': 0.0}"
       ]
      },
      {
       "output_type": "stream",
       "stream": "stdout",
       "text": [
        "\n",
        "{'MaxAmt': 49999, 'MinAmt': 25000, 'Product': 'HSBC AUD Foreign Currency Time Deposit', 'Period': '1 Mth', 'Currency': 'AUD', 'InterestRate': 0.0}\n",
        "{'MaxAmt': 49999, 'MinAmt': 25000, 'Product': 'HSBC AUD Foreign Currency Time Deposit', 'Period': '2 Mth', 'Currency': 'AUD', 'InterestRate': 0.38}\n",
        "{'MaxAmt': 49999, 'MinAmt': 25000, 'Product': 'HSBC AUD Foreign Currency Time Deposit', 'Period': '3 Mth', 'Currency': 'AUD', 'InterestRate': 0.44}\n",
        "{'MaxAmt': 49999, 'MinAmt': 25000, 'Product': 'HSBC AUD Foreign Currency Time Deposit', 'Period': '6 Mth', 'Currency': 'AUD', 'InterestRate': 0.48}\n",
        "{'MaxAmt': 49999, 'MinAmt': 25000, 'Product': 'HSBC AUD Foreign Currency Time Deposit', 'Period': '9 Mth', 'Currency': 'AUD', 'InterestRate': 0.69}\n",
        "{'MaxAmt': 49999, 'MinAmt': 25000, 'Product': 'HSBC AUD Foreign Currency Time Deposit', 'Period': '12 Mth', 'Currency': 'AUD', 'InterestRate': 0.0}\n",
        "{'MaxAmt': 99999, 'MinAmt': 50000, 'Product': 'HSBC AUD Foreign Currency Time Deposit', 'Period': '3 Wk', 'Currency': 'AUD', 'InterestRate': 0.0}\n",
        "{'MaxAmt': 99999, 'MinAmt': 50000, 'Product': 'HSBC AUD Foreign Currency Time Deposit', 'Period': '1 Mth', 'Currency': 'AUD', 'InterestRate': 0.0}\n",
        "{'MaxAmt': 99999, 'MinAmt': 50000, 'Product': 'HSBC AUD Foreign Currency Time Deposit', 'Period': '2 Mth', 'Currency': 'AUD', 'InterestRate': 0.68}\n",
        "{'MaxAmt': 99999, 'MinAmt': 50000, 'Product': 'HSBC AUD Foreign Currency Time Deposit', 'Period': '3 Mth', 'Currency': 'AUD', 'InterestRate': 0.74}\n",
        "{'MaxAmt': 99999, 'MinAmt': 50000, 'Product': 'HSBC AUD Foreign Currency Time Deposit', 'Period': '6 Mth', 'Currency': 'AUD', 'InterestRate': 0.78}\n",
        "{'MaxAmt': 99999, 'MinAmt': 50000, 'Product': 'HSBC AUD Foreign Currency Time Deposit', 'Period': '9 Mth', 'Currency': 'AUD', 'InterestRate': 0.99}\n",
        "{'MaxAmt': 99999, 'MinAmt': 50000, 'Product': 'HSBC AUD Foreign Currency Time Deposit', 'Period': '12 Mth', 'Currency': 'AUD', 'InterestRate': 0.0}\n",
        "{'MaxAmt': 249999, 'MinAmt': 100000, 'Product': 'HSBC AUD Foreign Currency Time Deposit', 'Period': '3 Wk', 'Currency': 'AUD', 'InterestRate': 0.0}\n",
        "{'MaxAmt': 249999, 'MinAmt': 100000, 'Product': 'HSBC AUD Foreign Currency Time Deposit', 'Period': '1 Mth', 'Currency': 'AUD', 'InterestRate': 0.0}\n",
        "{'MaxAmt': 249999, 'MinAmt': 100000, 'Product': 'HSBC AUD Foreign Currency Time Deposit', 'Period': '2 Mth', 'Currency': 'AUD', 'InterestRate': 0.98}\n",
        "{'MaxAmt': 249999, 'MinAmt': 100000, 'Product': 'HSBC AUD Foreign Currency Time Deposit', 'Period': '3 Mth', 'Currency': 'AUD', 'InterestRate': 1.04}\n",
        "{'MaxAmt': 249999, 'MinAmt': 100000, 'Product': 'HSBC AUD Foreign Currency Time Deposit', 'Period': '6 Mth', 'Currency': 'AUD', 'InterestRate': 1.08}\n",
        "{'MaxAmt': 249999, 'MinAmt': 100000, 'Product': 'HSBC AUD Foreign Currency Time Deposit', 'Period': '9 Mth', 'Currency': 'AUD', 'InterestRate': 1.19}\n",
        "{'MaxAmt': 249999, 'MinAmt': 100000, 'Product': 'HSBC AUD Foreign Currency Time Deposit', 'Period': '12 Mth', 'Currency': 'AUD', 'InterestRate': 0.0}\n",
        "{'MaxAmt': 499999, 'MinAmt': 250000, 'Product': 'HSBC AUD Foreign Currency Time Deposit', 'Period': '3 Wk', 'Currency': 'AUD', 'InterestRate': 0.0}\n",
        "{'MaxAmt': 499999, 'MinAmt': 250000, 'Product': 'HSBC AUD Foreign Currency Time Deposit', 'Period': '1 Mth', 'Currency': 'AUD', 'InterestRate': 0.0}\n",
        "{'MaxAmt': 499999, 'MinAmt': 250000, 'Product': 'HSBC AUD Foreign Currency Time Deposit', 'Period': '2 Mth', 'Currency': 'AUD', 'InterestRate': 1.23}\n",
        "{'MaxAmt': 499999, 'MinAmt': 250000, 'Product': 'HSBC AUD Foreign Currency Time Deposit', 'Period': '3 Mth', 'Currency': 'AUD', 'InterestRate': 1.29}\n",
        "{'MaxAmt': 499999, 'MinAmt': 250000, 'Product': 'HSBC AUD Foreign Currency Time Deposit', 'Period': '6 Mth', 'Currency': 'AUD', 'InterestRate': 1.33}\n",
        "{'MaxAmt': 499999, 'MinAmt': 250000, 'Product': 'HSBC AUD Foreign Currency Time Deposit', 'Period': '9 Mth', 'Currency': 'AUD', 'InterestRate': 1.39}\n",
        "{'MaxAmt': 499999, 'MinAmt': 250000, 'Product': 'HSBC AUD Foreign Currency Time Deposit', 'Period': '12 Mth', 'Currency': 'AUD', 'InterestRate': 0.0}\n",
        "{'MaxAmt': 999999, 'MinAmt': 500000, 'Product': 'HSBC AUD Foreign Currency Time Deposit', 'Period': '3 Wk', 'Currency': 'AUD', 'InterestRate': 0.0}\n",
        "{'MaxAmt': 999999, 'MinAmt': 500000, 'Product': 'HSBC AUD Foreign Currency Time Deposit', 'Period': '1 Mth', 'Currency': 'AUD', 'InterestRate': 0.0}\n",
        "{'MaxAmt': 999999, 'MinAmt': 500000, 'Product': 'HSBC AUD Foreign Currency Time Deposit', 'Period': '2 Mth', 'Currency': 'AUD', 'InterestRate': 1.33}\n",
        "{'MaxAmt': 999999, 'MinAmt': 500000, 'Product': 'HSBC AUD Foreign Currency Time Deposit', 'Period': '3 Mth', 'Currency': 'AUD', 'InterestRate': 1.39}\n",
        "{'MaxAmt': 999999, 'MinAmt': 500000, 'Product': 'HSBC AUD Foreign Currency Time Deposit', 'Period': '6 Mth', 'Currency': 'AUD', 'InterestRate': 1.43}\n",
        "{'MaxAmt': 999999, 'MinAmt': 500000, 'Product': 'HSBC AUD Foreign Currency Time Deposit', 'Period': '9 Mth', 'Currency': 'AUD', 'InterestRate': 1.49}\n",
        "{'MaxAmt': 999999, 'MinAmt': 500000, 'Product': 'HSBC AUD Foreign Currency Time Deposit', 'Period': '12 Mth', 'Currency': 'AUD', 'InterestRate': 0.0}\n",
        "{'MaxAmt': 999999999, 'MinAmt': 1000000, 'Product': 'HSBC AUD Foreign Currency Time Deposit', 'Period': '3 Wk', 'Currency': 'AUD', 'InterestRate': 0.0}\n",
        "{'MaxAmt': 999999999, 'MinAmt': 1000000, 'Product': 'HSBC AUD Foreign Currency Time Deposit', 'Period': '1 Mth', 'Currency': 'AUD', 'InterestRate': 0.0}\n",
        "{'MaxAmt': 999999999, 'MinAmt': 1000000, 'Product': 'HSBC AUD Foreign Currency Time Deposit', 'Period': '2 Mth', 'Currency': 'AUD', 'InterestRate': 1.43}\n",
        "{'MaxAmt': 999999999, 'MinAmt': 1000000, 'Product': 'HSBC AUD Foreign Currency Time Deposit', 'Period': '3 Mth', 'Currency': 'AUD', 'InterestRate': 1.49}\n",
        "{'MaxAmt': 999999999, 'MinAmt': 1000000, 'Product': 'HSBC AUD Foreign Currency Time Deposit', 'Period': '6 Mth', 'Currency': 'AUD', 'InterestRate': 1.53}\n",
        "{'MaxAmt': 999999999, 'MinAmt': 1000000, 'Product': 'HSBC AUD Foreign Currency Time Deposit', 'Period': '9 Mth', 'Currency': 'AUD', 'InterestRate': 1.54}\n",
        "{'MaxAmt': 999999999, 'MinAmt': 1000000, 'Product': 'HSBC AUD Foreign Currency Time Deposit', 'Period': '12 Mth', 'Currency': 'AUD', 'InterestRate': 0.0}\n",
        "{'MaxAmt': 49999, 'MinAmt': 25000, 'Product': 'HSBC AUD Foreign Currency Time Deposit', 'Period': '3 Wk', 'Currency': 'AUD', 'InterestRate': 0.0}"
       ]
      },
      {
       "output_type": "stream",
       "stream": "stdout",
       "text": [
        "\n",
        "{'MaxAmt': 49999, 'MinAmt': 25000, 'Product': 'HSBC AUD Foreign Currency Time Deposit', 'Period': '1 Mth', 'Currency': 'AUD', 'InterestRate': 0.0}\n",
        "{'MaxAmt': 49999, 'MinAmt': 25000, 'Product': 'HSBC AUD Foreign Currency Time Deposit', 'Period': '2 Mth', 'Currency': 'AUD', 'InterestRate': 0.38}\n",
        "{'MaxAmt': 49999, 'MinAmt': 25000, 'Product': 'HSBC AUD Foreign Currency Time Deposit', 'Period': '3 Mth', 'Currency': 'AUD', 'InterestRate': 0.44}\n",
        "{'MaxAmt': 49999, 'MinAmt': 25000, 'Product': 'HSBC AUD Foreign Currency Time Deposit', 'Period': '6 Mth', 'Currency': 'AUD', 'InterestRate': 0.48}\n",
        "{'MaxAmt': 49999, 'MinAmt': 25000, 'Product': 'HSBC AUD Foreign Currency Time Deposit', 'Period': '9 Mth', 'Currency': 'AUD', 'InterestRate': 0.69}\n",
        "{'MaxAmt': 49999, 'MinAmt': 25000, 'Product': 'HSBC AUD Foreign Currency Time Deposit', 'Period': '12 Mth', 'Currency': 'AUD', 'InterestRate': 0.0}\n",
        "{'MaxAmt': 99999, 'MinAmt': 50000, 'Product': 'HSBC AUD Foreign Currency Time Deposit', 'Period': '3 Wk', 'Currency': 'AUD', 'InterestRate': 0.0}\n",
        "{'MaxAmt': 99999, 'MinAmt': 50000, 'Product': 'HSBC AUD Foreign Currency Time Deposit', 'Period': '1 Mth', 'Currency': 'AUD', 'InterestRate': 0.0}\n",
        "{'MaxAmt': 99999, 'MinAmt': 50000, 'Product': 'HSBC AUD Foreign Currency Time Deposit', 'Period': '2 Mth', 'Currency': 'AUD', 'InterestRate': 0.68}\n",
        "{'MaxAmt': 99999, 'MinAmt': 50000, 'Product': 'HSBC AUD Foreign Currency Time Deposit', 'Period': '3 Mth', 'Currency': 'AUD', 'InterestRate': 0.74}\n",
        "{'MaxAmt': 99999, 'MinAmt': 50000, 'Product': 'HSBC AUD Foreign Currency Time Deposit', 'Period': '6 Mth', 'Currency': 'AUD', 'InterestRate': 0.78}\n",
        "{'MaxAmt': 99999, 'MinAmt': 50000, 'Product': 'HSBC AUD Foreign Currency Time Deposit', 'Period': '9 Mth', 'Currency': 'AUD', 'InterestRate': 0.99}\n",
        "{'MaxAmt': 99999, 'MinAmt': 50000, 'Product': 'HSBC AUD Foreign Currency Time Deposit', 'Period': '12 Mth', 'Currency': 'AUD', 'InterestRate': 0.0}\n",
        "{'MaxAmt': 249999, 'MinAmt': 100000, 'Product': 'HSBC AUD Foreign Currency Time Deposit', 'Period': '3 Wk', 'Currency': 'AUD', 'InterestRate': 0.0}\n",
        "{'MaxAmt': 249999, 'MinAmt': 100000, 'Product': 'HSBC AUD Foreign Currency Time Deposit', 'Period': '1 Mth', 'Currency': 'AUD', 'InterestRate': 0.0}\n",
        "{'MaxAmt': 249999, 'MinAmt': 100000, 'Product': 'HSBC AUD Foreign Currency Time Deposit', 'Period': '2 Mth', 'Currency': 'AUD', 'InterestRate': 0.98}\n",
        "{'MaxAmt': 249999, 'MinAmt': 100000, 'Product': 'HSBC AUD Foreign Currency Time Deposit', 'Period': '3 Mth', 'Currency': 'AUD', 'InterestRate': 1.04}\n",
        "{'MaxAmt': 249999, 'MinAmt': 100000, 'Product': 'HSBC AUD Foreign Currency Time Deposit', 'Period': '6 Mth', 'Currency': 'AUD', 'InterestRate': 1.08}\n",
        "{'MaxAmt': 249999, 'MinAmt': 100000, 'Product': 'HSBC AUD Foreign Currency Time Deposit', 'Period': '9 Mth', 'Currency': 'AUD', 'InterestRate': 1.19}\n",
        "{'MaxAmt': 249999, 'MinAmt': 100000, 'Product': 'HSBC AUD Foreign Currency Time Deposit', 'Period': '12 Mth', 'Currency': 'AUD', 'InterestRate': 0.0}\n",
        "{'MaxAmt': 499999, 'MinAmt': 250000, 'Product': 'HSBC AUD Foreign Currency Time Deposit', 'Period': '3 Wk', 'Currency': 'AUD', 'InterestRate': 0.0}\n",
        "{'MaxAmt': 499999, 'MinAmt': 250000, 'Product': 'HSBC AUD Foreign Currency Time Deposit', 'Period': '1 Mth', 'Currency': 'AUD', 'InterestRate': 0.0}\n",
        "{'MaxAmt': 499999, 'MinAmt': 250000, 'Product': 'HSBC AUD Foreign Currency Time Deposit', 'Period': '2 Mth', 'Currency': 'AUD', 'InterestRate': 1.23}\n",
        "{'MaxAmt': 499999, 'MinAmt': 250000, 'Product': 'HSBC AUD Foreign Currency Time Deposit', 'Period': '3 Mth', 'Currency': 'AUD', 'InterestRate': 1.29}\n",
        "{'MaxAmt': 499999, 'MinAmt': 250000, 'Product': 'HSBC AUD Foreign Currency Time Deposit', 'Period': '6 Mth', 'Currency': 'AUD', 'InterestRate': 1.33}\n",
        "{'MaxAmt': 499999, 'MinAmt': 250000, 'Product': 'HSBC AUD Foreign Currency Time Deposit', 'Period': '9 Mth', 'Currency': 'AUD', 'InterestRate': 1.39}\n",
        "{'MaxAmt': 499999, 'MinAmt': 250000, 'Product': 'HSBC AUD Foreign Currency Time Deposit', 'Period': '12 Mth', 'Currency': 'AUD', 'InterestRate': 0.0}\n",
        "{'MaxAmt': 999999, 'MinAmt': 500000, 'Product': 'HSBC AUD Foreign Currency Time Deposit', 'Period': '3 Wk', 'Currency': 'AUD', 'InterestRate': 0.0}\n",
        "{'MaxAmt': 999999, 'MinAmt': 500000, 'Product': 'HSBC AUD Foreign Currency Time Deposit', 'Period': '1 Mth', 'Currency': 'AUD', 'InterestRate': 0.0}\n",
        "{'MaxAmt': 999999, 'MinAmt': 500000, 'Product': 'HSBC AUD Foreign Currency Time Deposit', 'Period': '2 Mth', 'Currency': 'AUD', 'InterestRate': 1.33}\n",
        "{'MaxAmt': 999999, 'MinAmt': 500000, 'Product': 'HSBC AUD Foreign Currency Time Deposit', 'Period': '3 Mth', 'Currency': 'AUD', 'InterestRate': 1.39}\n",
        "{'MaxAmt': 999999, 'MinAmt': 500000, 'Product': 'HSBC AUD Foreign Currency Time Deposit', 'Period': '6 Mth', 'Currency': 'AUD', 'InterestRate': 1.43}\n",
        "{'MaxAmt': 999999, 'MinAmt': 500000, 'Product': 'HSBC AUD Foreign Currency Time Deposit', 'Period': '9 Mth', 'Currency': 'AUD', 'InterestRate': 1.49}\n",
        "{'MaxAmt': 999999, 'MinAmt': 500000, 'Product': 'HSBC AUD Foreign Currency Time Deposit', 'Period': '12 Mth', 'Currency': 'AUD', 'InterestRate': 0.0}\n",
        "{'MaxAmt': 999999999, 'MinAmt': 1000000, 'Product': 'HSBC AUD Foreign Currency Time Deposit', 'Period': '3 Wk', 'Currency': 'AUD', 'InterestRate': 0.0}\n",
        "{'MaxAmt': 999999999, 'MinAmt': 1000000, 'Product': 'HSBC AUD Foreign Currency Time Deposit', 'Period': '1 Mth', 'Currency': 'AUD', 'InterestRate': 0.0}\n",
        "{'MaxAmt': 999999999, 'MinAmt': 1000000, 'Product': 'HSBC AUD Foreign Currency Time Deposit', 'Period': '2 Mth', 'Currency': 'AUD', 'InterestRate': 1.43}\n",
        "{'MaxAmt': 999999999, 'MinAmt': 1000000, 'Product': 'HSBC AUD Foreign Currency Time Deposit', 'Period': '3 Mth', 'Currency': 'AUD', 'InterestRate': 1.49}\n",
        "{'MaxAmt': 999999999, 'MinAmt': 1000000, 'Product': 'HSBC AUD Foreign Currency Time Deposit', 'Period': '6 Mth', 'Currency': 'AUD', 'InterestRate': 1.53}\n",
        "{'MaxAmt': 999999999, 'MinAmt': 1000000, 'Product': 'HSBC AUD Foreign Currency Time Deposit', 'Period': '9 Mth', 'Currency': 'AUD', 'InterestRate': 1.54}\n",
        "{'MaxAmt': 999999999, 'MinAmt': 1000000, 'Product': 'HSBC AUD Foreign Currency Time Deposit', 'Period': '12 Mth', 'Currency': 'AUD', 'InterestRate': 0.0}\n",
        "{'MaxAmt': 49999, 'MinAmt': 25000, 'Product': 'HSBC AUD Foreign Currency Time Deposit', 'Period': '3 Wk', 'Currency': 'AUD', 'InterestRate': 0.0}"
       ]
      },
      {
       "output_type": "stream",
       "stream": "stdout",
       "text": [
        "\n",
        "{'MaxAmt': 49999, 'MinAmt': 25000, 'Product': 'HSBC AUD Foreign Currency Time Deposit', 'Period': '1 Mth', 'Currency': 'AUD', 'InterestRate': 0.0}\n",
        "{'MaxAmt': 49999, 'MinAmt': 25000, 'Product': 'HSBC AUD Foreign Currency Time Deposit', 'Period': '2 Mth', 'Currency': 'AUD', 'InterestRate': 0.38}\n",
        "{'MaxAmt': 49999, 'MinAmt': 25000, 'Product': 'HSBC AUD Foreign Currency Time Deposit', 'Period': '3 Mth', 'Currency': 'AUD', 'InterestRate': 0.44}\n",
        "{'MaxAmt': 49999, 'MinAmt': 25000, 'Product': 'HSBC AUD Foreign Currency Time Deposit', 'Period': '6 Mth', 'Currency': 'AUD', 'InterestRate': 0.48}\n",
        "{'MaxAmt': 49999, 'MinAmt': 25000, 'Product': 'HSBC AUD Foreign Currency Time Deposit', 'Period': '9 Mth', 'Currency': 'AUD', 'InterestRate': 0.69}\n",
        "{'MaxAmt': 49999, 'MinAmt': 25000, 'Product': 'HSBC AUD Foreign Currency Time Deposit', 'Period': '12 Mth', 'Currency': 'AUD', 'InterestRate': 0.0}\n",
        "{'MaxAmt': 99999, 'MinAmt': 50000, 'Product': 'HSBC AUD Foreign Currency Time Deposit', 'Period': '3 Wk', 'Currency': 'AUD', 'InterestRate': 0.0}\n",
        "{'MaxAmt': 99999, 'MinAmt': 50000, 'Product': 'HSBC AUD Foreign Currency Time Deposit', 'Period': '1 Mth', 'Currency': 'AUD', 'InterestRate': 0.0}\n",
        "{'MaxAmt': 99999, 'MinAmt': 50000, 'Product': 'HSBC AUD Foreign Currency Time Deposit', 'Period': '2 Mth', 'Currency': 'AUD', 'InterestRate': 0.68}\n",
        "{'MaxAmt': 99999, 'MinAmt': 50000, 'Product': 'HSBC AUD Foreign Currency Time Deposit', 'Period': '3 Mth', 'Currency': 'AUD', 'InterestRate': 0.74}\n",
        "{'MaxAmt': 99999, 'MinAmt': 50000, 'Product': 'HSBC AUD Foreign Currency Time Deposit', 'Period': '6 Mth', 'Currency': 'AUD', 'InterestRate': 0.78}\n",
        "{'MaxAmt': 99999, 'MinAmt': 50000, 'Product': 'HSBC AUD Foreign Currency Time Deposit', 'Period': '9 Mth', 'Currency': 'AUD', 'InterestRate': 0.99}\n",
        "{'MaxAmt': 99999, 'MinAmt': 50000, 'Product': 'HSBC AUD Foreign Currency Time Deposit', 'Period': '12 Mth', 'Currency': 'AUD', 'InterestRate': 0.0}\n",
        "{'MaxAmt': 249999, 'MinAmt': 100000, 'Product': 'HSBC AUD Foreign Currency Time Deposit', 'Period': '3 Wk', 'Currency': 'AUD', 'InterestRate': 0.0}\n",
        "{'MaxAmt': 249999, 'MinAmt': 100000, 'Product': 'HSBC AUD Foreign Currency Time Deposit', 'Period': '1 Mth', 'Currency': 'AUD', 'InterestRate': 0.0}\n",
        "{'MaxAmt': 249999, 'MinAmt': 100000, 'Product': 'HSBC AUD Foreign Currency Time Deposit', 'Period': '2 Mth', 'Currency': 'AUD', 'InterestRate': 0.98}\n",
        "{'MaxAmt': 249999, 'MinAmt': 100000, 'Product': 'HSBC AUD Foreign Currency Time Deposit', 'Period': '3 Mth', 'Currency': 'AUD', 'InterestRate': 1.04}\n",
        "{'MaxAmt': 249999, 'MinAmt': 100000, 'Product': 'HSBC AUD Foreign Currency Time Deposit', 'Period': '6 Mth', 'Currency': 'AUD', 'InterestRate': 1.08}\n",
        "{'MaxAmt': 249999, 'MinAmt': 100000, 'Product': 'HSBC AUD Foreign Currency Time Deposit', 'Period': '9 Mth', 'Currency': 'AUD', 'InterestRate': 1.19}\n",
        "{'MaxAmt': 249999, 'MinAmt': 100000, 'Product': 'HSBC AUD Foreign Currency Time Deposit', 'Period': '12 Mth', 'Currency': 'AUD', 'InterestRate': 0.0}\n",
        "{'MaxAmt': 499999, 'MinAmt': 250000, 'Product': 'HSBC AUD Foreign Currency Time Deposit', 'Period': '3 Wk', 'Currency': 'AUD', 'InterestRate': 0.0}\n",
        "{'MaxAmt': 499999, 'MinAmt': 250000, 'Product': 'HSBC AUD Foreign Currency Time Deposit', 'Period': '1 Mth', 'Currency': 'AUD', 'InterestRate': 0.0}\n",
        "{'MaxAmt': 499999, 'MinAmt': 250000, 'Product': 'HSBC AUD Foreign Currency Time Deposit', 'Period': '2 Mth', 'Currency': 'AUD', 'InterestRate': 1.23}\n",
        "{'MaxAmt': 499999, 'MinAmt': 250000, 'Product': 'HSBC AUD Foreign Currency Time Deposit', 'Period': '3 Mth', 'Currency': 'AUD', 'InterestRate': 1.29}\n",
        "{'MaxAmt': 499999, 'MinAmt': 250000, 'Product': 'HSBC AUD Foreign Currency Time Deposit', 'Period': '6 Mth', 'Currency': 'AUD', 'InterestRate': 1.33}\n",
        "{'MaxAmt': 499999, 'MinAmt': 250000, 'Product': 'HSBC AUD Foreign Currency Time Deposit', 'Period': '9 Mth', 'Currency': 'AUD', 'InterestRate': 1.39}\n",
        "{'MaxAmt': 499999, 'MinAmt': 250000, 'Product': 'HSBC AUD Foreign Currency Time Deposit', 'Period': '12 Mth', 'Currency': 'AUD', 'InterestRate': 0.0}\n",
        "{'MaxAmt': 999999, 'MinAmt': 500000, 'Product': 'HSBC AUD Foreign Currency Time Deposit', 'Period': '3 Wk', 'Currency': 'AUD', 'InterestRate': 0.0}\n",
        "{'MaxAmt': 999999, 'MinAmt': 500000, 'Product': 'HSBC AUD Foreign Currency Time Deposit', 'Period': '1 Mth', 'Currency': 'AUD', 'InterestRate': 0.0}\n",
        "{'MaxAmt': 999999, 'MinAmt': 500000, 'Product': 'HSBC AUD Foreign Currency Time Deposit', 'Period': '2 Mth', 'Currency': 'AUD', 'InterestRate': 1.33}\n",
        "{'MaxAmt': 999999, 'MinAmt': 500000, 'Product': 'HSBC AUD Foreign Currency Time Deposit', 'Period': '3 Mth', 'Currency': 'AUD', 'InterestRate': 1.39}\n",
        "{'MaxAmt': 999999, 'MinAmt': 500000, 'Product': 'HSBC AUD Foreign Currency Time Deposit', 'Period': '6 Mth', 'Currency': 'AUD', 'InterestRate': 1.43}\n",
        "{'MaxAmt': 999999, 'MinAmt': 500000, 'Product': 'HSBC AUD Foreign Currency Time Deposit', 'Period': '9 Mth', 'Currency': 'AUD', 'InterestRate': 1.49}\n",
        "{'MaxAmt': 999999, 'MinAmt': 500000, 'Product': 'HSBC AUD Foreign Currency Time Deposit', 'Period': '12 Mth', 'Currency': 'AUD', 'InterestRate': 0.0}\n",
        "{'MaxAmt': 999999999, 'MinAmt': 1000000, 'Product': 'HSBC AUD Foreign Currency Time Deposit', 'Period': '3 Wk', 'Currency': 'AUD', 'InterestRate': 0.0}\n",
        "{'MaxAmt': 999999999, 'MinAmt': 1000000, 'Product': 'HSBC AUD Foreign Currency Time Deposit', 'Period': '1 Mth', 'Currency': 'AUD', 'InterestRate': 0.0}\n",
        "{'MaxAmt': 999999999, 'MinAmt': 1000000, 'Product': 'HSBC AUD Foreign Currency Time Deposit', 'Period': '2 Mth', 'Currency': 'AUD', 'InterestRate': 1.43}\n",
        "{'MaxAmt': 999999999, 'MinAmt': 1000000, 'Product': 'HSBC AUD Foreign Currency Time Deposit', 'Period': '3 Mth', 'Currency': 'AUD', 'InterestRate': 1.49}\n",
        "{'MaxAmt': 999999999, 'MinAmt': 1000000, 'Product': 'HSBC AUD Foreign Currency Time Deposit', 'Period': '6 Mth', 'Currency': 'AUD', 'InterestRate': 1.53}\n",
        "{'MaxAmt': 999999999, 'MinAmt': 1000000, 'Product': 'HSBC AUD Foreign Currency Time Deposit', 'Period': '9 Mth', 'Currency': 'AUD', 'InterestRate': 1.54}\n",
        "{'MaxAmt': 999999999, 'MinAmt': 1000000, 'Product': 'HSBC AUD Foreign Currency Time Deposit', 'Period': '12 Mth', 'Currency': 'AUD', 'InterestRate': 0.0}\n",
        "1 loops, best of 3: 10.6 s per loop\n"
       ]
      }
     ],
     "prompt_number": 5
    },
    {
     "cell_type": "code",
     "collapsed": false,
     "input": [
      "import numpy as np\n",
      "\n",
      "%timeit a = np.random.rand(100, 100)\n",
      "a = np.random.rand(100, 100)\n",
      "np.linalg.eigvals(a)"
     ],
     "language": "python",
     "metadata": {},
     "outputs": [
      {
       "output_type": "stream",
       "stream": "stdout",
       "text": [
        "10000 loops, best of 3: 177 \u00b5s per loop\n"
       ]
      },
      {
       "metadata": {},
       "output_type": "pyout",
       "prompt_number": 6,
       "text": [
        "array([  4.96662292e+01+0.j        ,   2.56696066e+00+1.60522982j,\n",
        "         2.56696066e+00-1.60522982j,   1.75515345e+00+2.46982451j,\n",
        "         1.75515345e+00-2.46982451j,  -2.15938799e+00+1.89127038j,\n",
        "        -2.15938799e+00-1.89127038j,  -1.80465589e+00+2.17470319j,\n",
        "        -1.80465589e+00-2.17470319j,  -2.75555065e+00+0.2868277j ,\n",
        "        -2.75555065e+00-0.2868277j ,  -1.08741685e+00+2.54141605j,\n",
        "        -1.08741685e+00-2.54141605j,   2.60680087e+00+0.29365786j,\n",
        "         2.60680087e+00-0.29365786j,   5.09290766e-01+2.59896991j,\n",
        "         5.09290766e-01-2.59896991j,   2.37862663e+00+0.j        ,\n",
        "         9.63698902e-01+2.33826688j,   9.63698902e-01-2.33826688j,\n",
        "         2.17018528e+00+1.25477418j,   2.17018528e+00-1.25477418j,\n",
        "         1.26327283e+00+2.1175455j ,   1.26327283e+00-2.1175455j ,\n",
        "         1.82674880e+00+1.62615857j,   1.82674880e+00-1.62615857j,\n",
        "         2.02072326e-02+2.57607295j,   2.02072326e-02-2.57607295j,\n",
        "        -2.29547215e+00+1.00817198j,  -2.29547215e+00-1.00817198j,\n",
        "         2.11570072e+00+0.96400967j,   2.11570072e+00-0.96400967j,\n",
        "        -2.28371562e+00+0.54108503j,  -2.28371562e+00-0.54108503j,\n",
        "        -7.18748186e-01+2.16048219j,  -7.18748186e-01-2.16048219j,\n",
        "        -1.07266806e+00+1.98977396j,  -1.07266806e+00-1.98977396j,\n",
        "         1.76512381e-01+2.18090973j,   1.76512381e-01-2.18090973j,\n",
        "        -3.08682985e-01+2.17045456j,  -3.08682985e-01-2.17045456j,\n",
        "        -1.86303977e+00+1.29842845j,  -1.86303977e+00-1.29842845j,\n",
        "         2.07343863e+00+0.02423079j,   2.07343863e+00-0.02423079j,\n",
        "         1.64796846e+00+1.16145562j,   1.64796846e+00-1.16145562j,\n",
        "        -1.17141224e+00+1.70115139j,  -1.17141224e+00-1.70115139j,\n",
        "        -1.89788698e+00+0.70647556j,  -1.89788698e+00-0.70647556j,\n",
        "        -1.42277080e+00+1.37778342j,  -1.42277080e+00-1.37778342j,\n",
        "        -1.88296304e+00+0.60054398j,  -1.88296304e+00-0.60054398j,\n",
        "        -2.64517972e-01+1.86968733j,  -2.64517972e-01-1.86968733j,\n",
        "         1.77349146e+00+0.7015006j ,   1.77349146e+00-0.7015006j ,\n",
        "        -1.81845963e+00+0.18359868j,  -1.81845963e+00-0.18359868j,\n",
        "         1.60253140e-01+1.79385896j,   1.60253140e-01-1.79385896j,\n",
        "        -1.06219741e+00+1.40446165j,  -1.06219741e+00-1.40446165j,\n",
        "         5.82660441e-01+1.62316106j,   5.82660441e-01-1.62316106j,\n",
        "         3.45015258e-01+1.492723j  ,   3.45015258e-01-1.492723j  ,\n",
        "        -1.16040973e+00+0.95616972j,  -1.16040973e+00-0.95616972j,\n",
        "         1.12930880e+00+0.97378175j,   1.12930880e+00-0.97378175j,\n",
        "         1.37496355e+00+0.24093047j,   1.37496355e+00-0.24093047j,\n",
        "         8.58029700e-01+1.02694634j,   8.58029700e-01-1.02694634j,\n",
        "        -1.15244058e+00+0.44545878j,  -1.15244058e+00-0.44545878j,\n",
        "        -1.17118032e+00+0.36818101j,  -1.17118032e+00-0.36818101j,\n",
        "         3.51715686e-01+1.12701341j,   3.51715686e-01-1.12701341j,\n",
        "         7.67367523e-01+0.85200606j,   7.67367523e-01-0.85200606j,\n",
        "         1.15607972e+00+0.j        ,  -1.21669027e+00+0.j        ,\n",
        "        -2.52423585e-01+0.93545324j,  -2.52423585e-01-0.93545324j,\n",
        "         4.70866905e-01+0.75237726j,   4.70866905e-01-0.75237726j,\n",
        "         7.51622645e-01+0.30089138j,   7.51622645e-01-0.30089138j,\n",
        "        -7.93735980e-01+0.j        ,  -9.27369945e-02+0.46336214j,\n",
        "        -9.27369945e-02-0.46336214j,   1.49042114e-01+0.j        ,\n",
        "        -6.85902341e-01+0.j        ,  -1.50372867e-01+0.j        ])"
       ]
      }
     ],
     "prompt_number": 6
    },
    {
     "cell_type": "code",
     "collapsed": false,
     "input": [
      "input = raw_input()\n",
      "print \"input given\",input"
     ],
     "language": "python",
     "metadata": {},
     "outputs": [
      {
       "name": "stdout",
       "output_type": "stream",
       "stream": "stdout",
       "text": [
        "text\n"
       ]
      },
      {
       "output_type": "stream",
       "stream": "stdout",
       "text": [
        "input given text\n"
       ]
      }
     ],
     "prompt_number": 8
    },
    {
     "cell_type": "code",
     "collapsed": true,
     "input": [
      "%history"
     ],
     "language": "python",
     "metadata": {},
     "outputs": [
      {
       "output_type": "stream",
       "stream": "stdout",
       "text": [
        "!sudo pip install Ipython \n",
        "#usage of magic in ipython notebook\n",
        "#consider a scenario #missing dependencies\n",
        "!ls\n",
        "Is IPython a big deal ?\n",
        "![Yes it is](http://media.tumblr.com/fc41c879e64da523170bb539d82c11a6/tumblr_mxp5jo7L0h1s373hwo1_500.gif)\n",
        "!pip show ipython\n",
        "int?\n",
        "import pandas\n",
        "#autocompletion\n",
        "pandas.Categorical?\n",
        "%timeit %run hsbcForeign.py\n",
        "import numpy as np\n",
        "\n",
        "%timeit a = np.random.rand(100, 100)\n",
        "a = np.random.rand(100, 100)\n",
        "np.linalg.eigvals(a)\n",
        "input = raw_input()\n",
        "print \"input given\",input\n",
        "input = raw_input()\n",
        "print \"input given\",input\n",
        "%history\n"
       ]
      }
     ],
     "prompt_number": 9
    },
    {
     "cell_type": "code",
     "collapsed": false,
     "input": [
      "%pastebin 3 18-20 ~1/1-5"
     ],
     "language": "python",
     "metadata": {},
     "outputs": [
      {
       "metadata": {},
       "output_type": "pyout",
       "prompt_number": 10,
       "text": [
        "u'https://gist.github.com/7c92de4acd2d7ead16f8'"
       ]
      }
     ],
     "prompt_number": 10
    },
    {
     "cell_type": "code",
     "collapsed": false,
     "input": [
      "%dhist\n",
      "%cd \"~/Documents/talks/ipython-talk/\""
     ],
     "language": "python",
     "metadata": {},
     "outputs": [
      {
       "output_type": "stream",
       "stream": "stdout",
       "text": [
        "Directory history (kept in _dh)\n",
        "0: /home/g/Documents/talks/ipython-talk\n",
        "1: /home/g\n",
        "/home/g/Documents/talks/ipython-talk\n"
       ]
      }
     ],
     "prompt_number": 22
    },
    {
     "cell_type": "code",
     "collapsed": false,
     "input": [
      "\n",
      "%alias ping_google ping google.com #type an command"
     ],
     "language": "python",
     "metadata": {},
     "outputs": [],
     "prompt_number": 11
    },
    {
     "cell_type": "code",
     "collapsed": false,
     "input": [
      "ping_google\n"
     ],
     "language": "python",
     "metadata": {},
     "outputs": [
      {
       "output_type": "stream",
       "stream": "stdout",
       "text": [
        "PING google.com (173.194.36.46) 56(84) bytes of data.\r\n"
       ]
      },
      {
       "output_type": "stream",
       "stream": "stdout",
       "text": [
        "64 bytes from bom04s02-in-f14.1e100.net (173.194.36.46): icmp_seq=1 ttl=57 time=1841 ms\r\n",
        "64 bytes from bom04s02-in-f14.1e100.net (173.194.36.46): icmp_seq=2 ttl=57 time=1740 ms\r\n"
       ]
      },
      {
       "output_type": "stream",
       "stream": "stdout",
       "text": [
        "64 bytes from bom04s02-in-f14.1e100.net (173.194.36.46): icmp_seq=3 ttl=57 time=1044 ms\r\n"
       ]
      },
      {
       "output_type": "stream",
       "stream": "stdout",
       "text": [
        "64 bytes from bom04s02-in-f14.1e100.net (173.194.36.46): icmp_seq=4 ttl=57 time=679 ms\r\n"
       ]
      },
      {
       "output_type": "stream",
       "stream": "stdout",
       "text": [
        "64 bytes from bom04s02-in-f14.1e100.net (173.194.36.46): icmp_seq=5 ttl=57 time=735 ms\r\n"
       ]
      },
      {
       "output_type": "stream",
       "stream": "stdout",
       "text": [
        "^C\r\n",
        "--- google.com ping statistics ---\r\n",
        "6 packets transmitted, 5 received, 16% packet loss, time 6989ms\r\n",
        "rtt min/avg/max/mdev = 679.632/1208.462/1841.705/492.796 ms, pipe 2\r\n",
        "\r\n"
       ]
      }
     ],
     "prompt_number": 12
    },
    {
     "cell_type": "code",
     "collapsed": false,
     "input": [
      "from IPython import embed\n",
      "a = 10\n",
      "b = 20\n",
      "\n",
      "c = 30\n",
      "d = 40\n"
     ],
     "language": "python",
     "metadata": {},
     "outputs": [],
     "prompt_number": 35
    },
    {
     "cell_type": "code",
     "collapsed": false,
     "input": [
      "%doctest_mode\n",
      "\n"
     ],
     "language": "python",
     "metadata": {},
     "outputs": [
      {
       "output_type": "stream",
       "stream": "stdout",
       "text": [
        "Exception reporting mode: Plain\n",
        "Doctest mode is: ON\n"
       ]
      }
     ],
     "prompt_number": 13
    },
    {
     "cell_type": "markdown",
     "metadata": {},
     "source": [
      "#PLUGINS"
     ]
    },
    {
     "cell_type": "markdown",
     "metadata": {},
     "source": [
      "https://github.com/ipython-contrib/IPython-notebook-extensions/wiki "
     ]
    },
    {
     "cell_type": "code",
     "collapsed": false,
     "input": [
      "%install_ext https://bitbucket.org/birkenfeld/ipython-physics/raw/default/physics.py"
     ],
     "language": "python",
     "metadata": {},
     "outputs": [
      {
       "output_type": "stream",
       "stream": "stdout",
       "text": [
        "Installed physics.py. To use it, type:\n",
        "  %load_ext physics\n"
       ]
      }
     ],
     "prompt_number": 6
    },
    {
     "cell_type": "markdown",
     "metadata": {},
     "source": [
      "https://github.com/ipython-contrib/IPython-notebook-extensions"
     ]
    },
    {
     "cell_type": "code",
     "collapsed": false,
     "input": [],
     "language": "python",
     "metadata": {},
     "outputs": []
    }
   ],
   "metadata": {}
  }
 ]
}